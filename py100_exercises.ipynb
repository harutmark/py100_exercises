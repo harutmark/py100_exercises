{
  "cells": [
    {
      "cell_type": "markdown",
      "metadata": {
        "id": "view-in-github",
        "colab_type": "text"
      },
      "source": [
        "<a href=\"https://colab.research.google.com/github/harutmark/py100_exercises/blob/main/py100_exercises.ipynb\" target=\"_parent\"><img src=\"https://colab.research.google.com/assets/colab-badge.svg\" alt=\"Open In Colab\"/></a>"
      ]
    },
    {
      "cell_type": "markdown",
      "metadata": {
        "id": "eHnw7BSQ5HcQ"
      },
      "source": [
        "# Py100 Exercises - Python Basics"
      ]
    },
    {
      "cell_type": "markdown",
      "metadata": {
        "id": "ZprojrAj5HcS"
      },
      "source": [
        "## I. Reading Documentation 1"
      ]
    },
    {
      "cell_type": "markdown",
      "source": [
        "### 1. Finding Documentation"
      ],
      "metadata": {
        "id": "D3gSllt4YSh-"
      }
    },
    {
      "cell_type": "markdown",
      "source": [
        "### 2. Lowercase"
      ],
      "metadata": {
        "id": "wLf7R5jVYWXB"
      }
    },
    {
      "cell_type": "markdown",
      "source": [
        "### 3. Right Justify Strings"
      ],
      "metadata": {
        "id": "Ve_ui5uwYbrd"
      }
    },
    {
      "cell_type": "markdown",
      "source": [
        "### 4. Reverse"
      ],
      "metadata": {
        "id": "FRroZoMPYipF"
      }
    },
    {
      "cell_type": "markdown",
      "source": [
        "### 5. List Element Access"
      ],
      "metadata": {
        "id": "szW-nSinYkWn"
      }
    },
    {
      "cell_type": "markdown",
      "source": [
        "### 6. Finding Index"
      ],
      "metadata": {
        "id": "_64102QZYm-r"
      }
    },
    {
      "cell_type": "markdown",
      "source": [
        "### 7. Out of Bounds"
      ],
      "metadata": {
        "id": "9fN4Hs2pYppS"
      }
    },
    {
      "cell_type": "markdown",
      "source": [
        "### 8. Large Numbers"
      ],
      "metadata": {
        "id": "RvOsl-5xYsTl"
      }
    },
    {
      "cell_type": "markdown",
      "source": [
        "### 9. Checking Data Types"
      ],
      "metadata": {
        "id": "OnuZAcAIYvFr"
      }
    },
    {
      "cell_type": "markdown",
      "metadata": {
        "id": "Cdb6G8hb5HcS"
      },
      "source": [
        "## II. Reading Documentation 2"
      ]
    },
    {
      "cell_type": "markdown",
      "metadata": {
        "id": "X0G4NLPJ5HcT"
      },
      "source": [
        "### 1. String Formatting\n",
        "How can you print the string Hello, Victor. You are a programmer. using the str.format method? You should fill in the name and profession in a string literal that contains the rest of the text.\n",
        "How can you achieve the same result using an f-string?\n",
        "Refer to the Python documentation on Format String Syntax and Formatted string literals for guidance.\n",
        "\n",
        "    name = \"Victor\"\n",
        "    profession = \"programmer\""
      ]
    },
    {
      "cell_type": "code",
      "execution_count": null,
      "metadata": {
        "id": "KD--S9nk5HcT",
        "outputId": "89699a2d-0067-4daa-b231-1187383aef7b"
      },
      "outputs": [
        {
          "name": "stdout",
          "output_type": "stream",
          "text": [
            "Hello, Victor. You are a programmer.\n",
            "Hello, Victor. You are a programmer.\n"
          ]
        }
      ],
      "source": [
        "name = \"Victor\"\n",
        "profession = \"programmer\"\n",
        "\n",
        "result = \"Hello, {}. You are a {}.\".format(name, profession)\n",
        "print(result)\n",
        "\n",
        "print(f'Hello, {name}. You are a {profession}.')"
      ]
    },
    {
      "cell_type": "markdown",
      "metadata": {
        "id": "s2ae9eIv5HcU"
      },
      "source": [
        "### 2. Style Guide\n",
        "In the following code snippet, find all violations of the PEP8 style guide. Rewrite it so that it conforms with the guide.\n",
        "    iceCreamDensity=10\n",
        "    \n",
        "    while iceCreamDensity>0 :\n",
        "        print('Drip...')\n",
        "        iceCreamDensity-=1\n",
        "    \n",
        "    print('The ice cream melted.')"
      ]
    },
    {
      "cell_type": "code",
      "execution_count": null,
      "metadata": {
        "id": "knq7lgb_5HcU",
        "outputId": "f6b04614-e8ac-44de-b18d-4b5d647375d1"
      },
      "outputs": [
        {
          "name": "stdout",
          "output_type": "stream",
          "text": [
            "Drip...\n",
            "Drip...\n",
            "Drip...\n",
            "Drip...\n",
            "Drip...\n",
            "Drip...\n",
            "Drip...\n",
            "Drip...\n",
            "Drip...\n",
            "Drip...\n",
            "The ice cream melted.\n"
          ]
        }
      ],
      "source": [
        "ice_cream_density = 10\n",
        "\n",
        "while ice_cream_density > 0:\n",
        "    print('Drip...')\n",
        "    ice_cream_density -= 1\n",
        "\n",
        "print('The ice cream melted.')"
      ]
    },
    {
      "cell_type": "markdown",
      "metadata": {
        "id": "izoEAb3V5HcU"
      },
      "source": [
        "1. Variable Naming: Variables should be in snake_case instead of camelCase.\n",
        "1. Spacing: There shouldn't be a space before the colon in the while loop.\n",
        "1. Missing Spaces: There should be a single space on both sides of the =, >, and -= operators.\n"
      ]
    },
    {
      "cell_type": "markdown",
      "metadata": {
        "id": "atVva5GG5HcU"
      },
      "source": [
        "### 3. Arithmetic Operator Precedence\n",
        "Find the Python Documentation on operator precedence, and use it to determine the result of evaluating\n",
        "    4 * 5 + 3**2 / 10."
      ]
    },
    {
      "cell_type": "markdown",
      "metadata": {
        "id": "T0slmn345HcV"
      },
      "source": [
        "1. exponentiation:\n",
        "   4 * 5 + 9 / 10\n",
        "3. multiplication & division (left to right):\n",
        "   20 + 0.9\n",
        "5. addition:\n",
        "   20.9"
      ]
    },
    {
      "cell_type": "code",
      "execution_count": null,
      "metadata": {
        "id": "O2gXrhkh5HcV",
        "outputId": "9a25cbe8-cdd1-4844-c08c-37793b3bdd7c"
      },
      "outputs": [
        {
          "data": {
            "text/plain": "20.9"
          },
          "execution_count": 3,
          "metadata": {},
          "output_type": "execute_result"
        }
      ],
      "source": [
        "4 * 5 + 3**2 / 10"
      ]
    },
    {
      "cell_type": "code",
      "execution_count": null,
      "metadata": {
        "id": "efRl2WkD5HcV",
        "outputId": "d6492e33-a0c8-43f0-9eea-f6f01c933f40"
      },
      "outputs": [
        {
          "data": {
            "text/plain": "20.9"
          },
          "execution_count": 4,
          "metadata": {},
          "output_type": "execute_result"
        }
      ],
      "source": [
        "# The following is good practice:\n",
        "(4 * 5) + ((3**2) / 10)"
      ]
    },
    {
      "cell_type": "markdown",
      "metadata": {
        "id": "ARN2avp85HcV"
      },
      "source": [
        "### 4. Date\n",
        "Using the datetime module in Python, how would you obtain the current date and time?"
      ]
    },
    {
      "cell_type": "code",
      "execution_count": null,
      "metadata": {
        "id": "BRuMemg_5HcV",
        "outputId": "b9ccddc1-32a2-41d3-aa6a-df2577561e95"
      },
      "outputs": [
        {
          "name": "stdout",
          "output_type": "stream",
          "text": [
            "2024-05-16 12:00:11.603000\n"
          ]
        }
      ],
      "source": [
        "import datetime\n",
        "\n",
        "print(datetime.datetime.now())"
      ]
    },
    {
      "cell_type": "markdown",
      "metadata": {
        "id": "qv6Aku8X5HcV"
      },
      "source": [
        "### 5. Which Year is This?\n",
        "The Python documentation for the datetime module provides two attributes to retrieve the year from a date or datetime object: year and isocalendar.\n",
        "    from datetime import date\n",
        "    \n",
        "    today = date.today()\n",
        "    \n",
        "    today_year = today.year\n",
        "    iso_year = today.isocalendar()[0]\n",
        "What is the difference between the year attribute and the isocalendar method?"
      ]
    },
    {
      "cell_type": "markdown",
      "metadata": {
        "id": "qnUKowiy5HcV"
      },
      "source": [
        "One returs the year attribute of an object, the other is a method which returns a tuple containing the ISO year, ISO week number, and ISO weekday."
      ]
    },
    {
      "cell_type": "markdown",
      "metadata": {
        "id": "8lmGvSbI5HcW"
      },
      "source": [
        "### 6. Argument Signatures\n",
        "How many arguments does the str.join method expect? What happens if you call it with fewer or more arguments?"
      ]
    },
    {
      "cell_type": "code",
      "execution_count": null,
      "metadata": {
        "id": "jEUM3f_75HcW",
        "outputId": "84f89096-c720-4d35-a356-c67dc24b40e8"
      },
      "outputs": [
        {
          "name": "stdout",
          "output_type": "stream",
          "text": [
            "Monty Python and the Quest for the Holy Grail\n"
          ]
        }
      ],
      "source": [
        "# Only takes 1 argument\n",
        "my_list = [\"Monty\", \"Python\", \"and\", \"the\", \"Quest\", \"for\", \"the\", \"Holy\", \"Grail\"]\n",
        "print(\" \".join(my_list))"
      ]
    },
    {
      "cell_type": "code",
      "execution_count": null,
      "metadata": {
        "id": "CUC7nxqq5HcW",
        "outputId": "440f28b6-d7e7-4cce-e09a-405c3c1804da"
      },
      "outputs": [
        {
          "ename": "<class 'TypeError'>",
          "evalue": "str.join() takes exactly one argument (2 given)",
          "output_type": "error",
          "traceback": [
            "\u001b[0;31m---------------------------------------------------------------------------\u001b[0m",
            "\u001b[0;31mTypeError\u001b[0m                                 Traceback (most recent call last)",
            "Cell \u001b[0;32mIn[27], line 2\u001b[0m\n\u001b[1;32m      1\u001b[0m \u001b[38;5;66;03m# If you give it 2 arguments:\u001b[39;00m\n\u001b[0;32m----> 2\u001b[0m \u001b[38;5;28mprint\u001b[39m(\u001b[38;5;124;43m\"\u001b[39;49m\u001b[38;5;124;43m \u001b[39;49m\u001b[38;5;124;43m\"\u001b[39;49m\u001b[38;5;241;43m.\u001b[39;49m\u001b[43mjoin\u001b[49m\u001b[43m(\u001b[49m\u001b[38;5;124;43m\"\u001b[39;49m\u001b[38;5;124;43mMonty\u001b[39;49m\u001b[38;5;124;43m\"\u001b[39;49m\u001b[43m,\u001b[49m\u001b[43m \u001b[49m\u001b[38;5;124;43m\"\u001b[39;49m\u001b[38;5;124;43mPython\u001b[39;49m\u001b[38;5;124;43m\"\u001b[39;49m\u001b[43m)\u001b[49m)   \n\u001b[1;32m      3\u001b[0m \u001b[38;5;66;03m#TypeError: str.join() takes exactly one argument (2 given)\u001b[39;00m\n",
            "\u001b[0;31mTypeError\u001b[0m: str.join() takes exactly one argument (2 given)"
          ]
        }
      ],
      "source": [
        "# If you give it 2 arguments:\n",
        "print(\" \".join(\"Monty\", \"Python\"))\n",
        "#TypeError: str.join() takes exactly one argument (2 given)"
      ]
    },
    {
      "cell_type": "markdown",
      "metadata": {
        "id": "Y2mEgilx5HcW"
      },
      "source": [
        "### 7. Find Substring\n",
        "Using the official Python documentation, can you determine how to check whether a string contains a specific substring?\n",
        "\n"
      ]
    },
    {
      "cell_type": "markdown",
      "metadata": {
        "id": "Bj_9yAC05HcW"
      },
      "source": [
        "Yes, you can use string.find() string.index() or the in keyword"
      ]
    },
    {
      "cell_type": "code",
      "execution_count": null,
      "metadata": {
        "id": "DDz7_8mc5HcW",
        "outputId": "f0554871-334e-4a49-9693-4fd9ed405d5f"
      },
      "outputs": [
        {
          "name": "stdout",
          "output_type": "stream",
          "text": [
            "True\n",
            "False\n",
            "0\n",
            "10\n",
            "-1\n",
            "4\n",
            "8\n"
          ]
        },
        {
          "ename": "<class 'ValueError'>",
          "evalue": "substring not found",
          "output_type": "error",
          "traceback": [
            "\u001b[0;31m---------------------------------------------------------------------------\u001b[0m",
            "\u001b[0;31mValueError\u001b[0m                                Traceback (most recent call last)",
            "Cell \u001b[0;32mIn[40], line 15\u001b[0m\n\u001b[1;32m     13\u001b[0m \u001b[38;5;28mprint\u001b[39m(my_string\u001b[38;5;241m.\u001b[39mindex(\u001b[38;5;124m\"\u001b[39m\u001b[38;5;124mo,\u001b[39m\u001b[38;5;124m\"\u001b[39m))          \u001b[38;5;66;03m# 4\u001b[39;00m\n\u001b[1;32m     14\u001b[0m \u001b[38;5;28mprint\u001b[39m(my_string\u001b[38;5;241m.\u001b[39mrindex(\u001b[38;5;124m\"\u001b[39m\u001b[38;5;124mo\u001b[39m\u001b[38;5;124m\"\u001b[39m))          \u001b[38;5;66;03m# 8\u001b[39;00m\n\u001b[0;32m---> 15\u001b[0m \u001b[38;5;28mprint\u001b[39m(\u001b[43mmy_string\u001b[49m\u001b[38;5;241;43m.\u001b[39;49m\u001b[43mindex\u001b[49m\u001b[43m(\u001b[49m\u001b[38;5;124;43m\"\u001b[39;49m\u001b[38;5;124;43mPython\u001b[39;49m\u001b[38;5;124;43m\"\u001b[39;49m\u001b[43m)\u001b[49m)      \u001b[38;5;66;03m# ValueError: substring not found\u001b[39;00m\n",
            "\u001b[0;31mValueError\u001b[0m: substring not found"
          ]
        }
      ],
      "source": [
        "my_string = \"Hello, World!\"\n",
        "\n",
        "# using in keyword\n",
        "print(\"World\" in my_string)           # True\n",
        "print(\"Python\" in my_string)          # False\n",
        "\n",
        "#using string.find()\n",
        "print(my_string.find(\"Hello\"))        # 0\n",
        "print(my_string.rfind(\"l\"))           # 10\n",
        "print(my_string.find(\"Python\"))       # -1\n",
        "\n",
        "#using string.index()\n",
        "print(my_string.index(\"o,\"))          # 4\n",
        "print(my_string.rindex(\"o\"))          # 8\n",
        "print(my_string.index(\"Python\"))      # ValueError: substring not found"
      ]
    },
    {
      "cell_type": "markdown",
      "metadata": {
        "id": "-EiMswJz5HcW"
      },
      "source": [
        "### 8. Syntax Error\n",
        "The following code raises a SyntaxError:\n",
        "    speed_limit = 60\n",
        "    current_speed = 80\n",
        "    \n",
        "    if current_speed > speed_limit\n",
        "        print('\"People are so bad at driving cars that '\n",
        "              \"computers don\\'t have to be that good to be \"\n",
        "              'much better.\" -- Marc Andreessen')\n",
        "What does a SyntaxError indicate? Try running the above code, then use the resulting error message to fix the error."
      ]
    },
    {
      "cell_type": "markdown",
      "metadata": {
        "id": "F-c3nD6n5HcW"
      },
      "source": [
        "Syntax error usually indicates that something has been formattted incorrectly. In this case they forgot the colon after the if statement."
      ]
    },
    {
      "cell_type": "code",
      "execution_count": null,
      "metadata": {
        "id": "SwKtwh7X5HcX",
        "outputId": "6f5a7532-97b4-4e91-aef0-fa3f19e1d16e"
      },
      "outputs": [
        {
          "ename": "<class 'SyntaxError'>",
          "evalue": "expected ':' (<ipython-input-44-0971f91e1b8d>, line 4)",
          "output_type": "error",
          "traceback": [
            "\u001b[0;36m  Cell \u001b[0;32mIn[44], line 4\u001b[0;36m\u001b[0m\n\u001b[0;31m    if current_speed > speed_limit\u001b[0m\n\u001b[0m                                  ^\u001b[0m\n\u001b[0;31mSyntaxError\u001b[0m\u001b[0;31m:\u001b[0m expected ':'\n"
          ]
        }
      ],
      "source": [
        "speed_limit = 60\n",
        "current_speed = 80\n",
        "\n",
        "if current_speed > speed_limit\n",
        "    print('\"People are so bad at driving cars that '\n",
        "          \"computers don\\'t have to be that good to be \"\n",
        "          'much better.\" -- Marc Andreessen')"
      ]
    },
    {
      "cell_type": "code",
      "execution_count": null,
      "metadata": {
        "id": "R7E_gi675HcX",
        "outputId": "828967f3-7f1b-4988-cd7c-0da314771507"
      },
      "outputs": [
        {
          "name": "stdout",
          "output_type": "stream",
          "text": [
            "\"People are so bad at driving cars that computers don't have to be that good to be much better.\" -- Marc Andreessen\n"
          ]
        }
      ],
      "source": [
        "speed_limit = 60\n",
        "current_speed = 80\n",
        "\n",
        "if current_speed > speed_limit:\n",
        "    print('\"People are so bad at driving cars that '\n",
        "          \"computers don\\'t have to be that good to be \"\n",
        "          'much better.\" -- Marc Andreessen')"
      ]
    },
    {
      "cell_type": "markdown",
      "metadata": {
        "id": "p9BjXsr45HcX"
      },
      "source": [
        "### 9. TypeError\n",
        "The following code raises a TypeError:\n",
        "    tweet = 'Woohoo! :-)'\n",
        "    \n",
        "    if len(tweet) > 140:\n",
        "        print('Tweet is too long!')\n",
        "    \n",
        "    length_of_tweet = len(tweet + 5)\n",
        "What does a TypeError indicate? Try running the above code, then use the resulting error message to determine exactly what is wrong. (You don't have to fix this code.)"
      ]
    },
    {
      "cell_type": "code",
      "execution_count": null,
      "metadata": {
        "id": "GD0fsg-S5HcX",
        "outputId": "2339ee4c-207f-4f9b-e025-732dde45ae90"
      },
      "outputs": [
        {
          "ename": "<class 'TypeError'>",
          "evalue": "can only concatenate str (not \"int\") to str",
          "output_type": "error",
          "traceback": [
            "\u001b[0;31m---------------------------------------------------------------------------\u001b[0m",
            "\u001b[0;31mTypeError\u001b[0m                                 Traceback (most recent call last)",
            "Cell \u001b[0;32mIn[50], line 6\u001b[0m\n\u001b[1;32m      3\u001b[0m \u001b[38;5;28;01mif\u001b[39;00m \u001b[38;5;28mlen\u001b[39m(tweet) \u001b[38;5;241m>\u001b[39m \u001b[38;5;241m140\u001b[39m:\n\u001b[1;32m      4\u001b[0m     \u001b[38;5;28mprint\u001b[39m(\u001b[38;5;124m'\u001b[39m\u001b[38;5;124mTweet is too long!\u001b[39m\u001b[38;5;124m'\u001b[39m)\n\u001b[0;32m----> 6\u001b[0m length_of_tweet \u001b[38;5;241m=\u001b[39m \u001b[38;5;28mlen\u001b[39m(\u001b[43mtweet\u001b[49m\u001b[43m \u001b[49m\u001b[38;5;241;43m+\u001b[39;49m\u001b[43m \u001b[49m\u001b[38;5;241;43m5\u001b[39;49m)\n\u001b[1;32m      7\u001b[0m \u001b[38;5;66;03m# I'm assuming the follwoing was the intention:\u001b[39;00m\n\u001b[1;32m      8\u001b[0m \u001b[38;5;66;03m# length_of_tweet = len(tweet) + 5)\u001b[39;00m\n",
            "\u001b[0;31mTypeError\u001b[0m: can only concatenate str (not \"int\") to str"
          ]
        }
      ],
      "source": [
        "tweet = 'Woohoo! :-)'\n",
        "\n",
        "if len(tweet) > 140:\n",
        "    print('Tweet is too long!')\n",
        "\n",
        "length_of_tweet = len(tweet + 5)\n",
        "# I'm assuming the follwoing was the intention:\n",
        "# length_of_tweet = len(tweet) + 5)"
      ]
    },
    {
      "cell_type": "markdown",
      "metadata": {
        "id": "lL5_k4nt5HcX"
      },
      "source": [
        "## III. Loops"
      ]
    },
    {
      "cell_type": "markdown",
      "metadata": {
        "id": "W0JVGe6j5HcX"
      },
      "source": [
        "### 1. Loop and Print\n",
        "Add some code inside the following for loop to print the current value of num on each iteration. Before you execute the code: What sequence of numbers do you expect to be printed?\n",
        "\n",
        "for num in range(0, 11, 2):\n",
        "        pass # include your code here"
      ]
    },
    {
      "cell_type": "code",
      "execution_count": null,
      "metadata": {
        "id": "o7qGL_0s5HcX",
        "outputId": "cabf85c8-1f95-4cfa-c809-43fcb66b6c9c"
      },
      "outputs": [
        {
          "name": "stdout",
          "output_type": "stream",
          "text": [
            "0\n",
            "2\n",
            "4\n",
            "6\n",
            "8\n",
            "10\n"
          ]
        }
      ],
      "source": [
        "for num in range(0, 11, 2):\n",
        "    print(num)                 # 0, 2, 4, 6, 8, 10"
      ]
    },
    {
      "cell_type": "markdown",
      "metadata": {
        "id": "jR6c1nHC5HcX"
      },
      "source": [
        "### 2. Countdown\n",
        "The following code prints the numbers from 1 to 10. Modify it so that it instead prints the numbers from 10 to 1 in descending order, followed by 'Launch!'.\n",
        "    for i in range(1, 11):\n",
        "        print(i)"
      ]
    },
    {
      "cell_type": "code",
      "execution_count": null,
      "metadata": {
        "id": "MlKKOm8w5HcY",
        "outputId": "83f821e3-2e6d-4328-ad47-8b6441a75fc4"
      },
      "outputs": [
        {
          "name": "stdout",
          "output_type": "stream",
          "text": [
            "10\n",
            "9\n",
            "8\n",
            "7\n",
            "6\n",
            "5\n",
            "4\n",
            "3\n",
            "2\n",
            "1\n",
            "Launch!\n"
          ]
        }
      ],
      "source": [
        "for i in range(10, 0, -1):\n",
        "    print(i)\n",
        "print('Launch!')"
      ]
    },
    {
      "cell_type": "markdown",
      "metadata": {
        "id": "0N3sCCRP5HcY"
      },
      "source": [
        "### 3. Triple Greeting\n",
        "Write a loop that prints the value of the greeting variable three times.\n",
        "    greeting = 'Aloha!'"
      ]
    },
    {
      "cell_type": "code",
      "execution_count": null,
      "metadata": {
        "id": "sH6TAgTq5HcY",
        "outputId": "1e8e42be-c8f7-4c03-cb9d-a24410eed940"
      },
      "outputs": [
        {
          "name": "stdout",
          "output_type": "stream",
          "text": [
            "Aloha!\n",
            "Aloha!\n",
            "Aloha!\n"
          ]
        }
      ],
      "source": [
        "greeting = 'Aloha!'\n",
        "for i in range(3):\n",
        "    print(greeting)"
      ]
    },
    {
      "cell_type": "markdown",
      "metadata": {
        "id": "gePfA68c5_kp"
      },
      "source": [
        "### 4. Take Two\n",
        "Write a for loop that iterates over the integers from 1 to 100 and prints the result of multiplying each integer by 2."
      ]
    },
    {
      "cell_type": "code",
      "execution_count": null,
      "metadata": {
        "colab": {
          "base_uri": "https://localhost:8080/"
        },
        "collapsed": true,
        "id": "rKbweFNN6Gfv",
        "outputId": "2efddc9b-f82b-4a2b-f5da-51a6a28a5b71"
      },
      "outputs": [
        {
          "name": "stdout",
          "output_type": "stream",
          "text": [
            "0\n",
            "2\n",
            "4\n",
            "6\n",
            "8\n",
            "10\n",
            "12\n",
            "14\n",
            "16\n",
            "18\n",
            "20\n",
            "22\n",
            "24\n",
            "26\n",
            "28\n",
            "30\n",
            "32\n",
            "34\n",
            "36\n",
            "38\n",
            "40\n",
            "42\n",
            "44\n",
            "46\n",
            "48\n",
            "50\n",
            "52\n",
            "54\n",
            "56\n",
            "58\n",
            "60\n",
            "62\n",
            "64\n",
            "66\n",
            "68\n",
            "70\n",
            "72\n",
            "74\n",
            "76\n",
            "78\n",
            "80\n",
            "82\n",
            "84\n",
            "86\n",
            "88\n",
            "90\n",
            "92\n",
            "94\n",
            "96\n",
            "98\n",
            "100\n",
            "102\n",
            "104\n",
            "106\n",
            "108\n",
            "110\n",
            "112\n",
            "114\n",
            "116\n",
            "118\n",
            "120\n",
            "122\n",
            "124\n",
            "126\n",
            "128\n",
            "130\n",
            "132\n",
            "134\n",
            "136\n",
            "138\n",
            "140\n",
            "142\n",
            "144\n",
            "146\n",
            "148\n",
            "150\n",
            "152\n",
            "154\n",
            "156\n",
            "158\n",
            "160\n",
            "162\n",
            "164\n",
            "166\n",
            "168\n",
            "170\n",
            "172\n",
            "174\n",
            "176\n",
            "178\n",
            "180\n",
            "182\n",
            "184\n",
            "186\n",
            "188\n",
            "190\n",
            "192\n",
            "194\n",
            "196\n",
            "198\n",
            "200\n"
          ]
        }
      ],
      "source": [
        "for i in range(101):\n",
        "  print(i * 2)"
      ]
    },
    {
      "cell_type": "markdown",
      "metadata": {
        "id": "E-uVhth06czP"
      },
      "source": [
        "### 5. Looping over List Elements\n",
        "Using the code below as a starting point, write a while loop that prints the elements of lst at each index and terminates after printing the last element of the list.\n",
        "```\n",
        "lst = [1, 3, 7, 15]\n",
        "index = 0e\n",
        "```\n",
        "\n"
      ]
    },
    {
      "cell_type": "code",
      "execution_count": null,
      "metadata": {
        "colab": {
          "base_uri": "https://localhost:8080/"
        },
        "id": "WCbzrVq06ipm",
        "outputId": "93c1d843-9eab-4278-bd49-ac24af99b3b0"
      },
      "outputs": [
        {
          "name": "stdout",
          "output_type": "stream",
          "text": [
            "1\n",
            "3\n",
            "7\n",
            "15\n"
          ]
        }
      ],
      "source": [
        "lst = [1, 3, 7, 15]\n",
        "index = 0\n",
        "\n",
        "while index < len(lst):\n",
        "    print(lst[index])\n",
        "    index += 1"
      ]
    },
    {
      "cell_type": "markdown",
      "metadata": {
        "id": "KuOoqzUq8EOL"
      },
      "source": [
        "### 6. Greet Your Friends\n",
        "Your friends just showed up! Given the following list of names, use a for loop to greet each friend individually.\n",
        "```\n",
        "friends = ['Sarah', 'John', 'Hannah', 'Dave']\n",
        "```"
      ]
    },
    {
      "cell_type": "code",
      "execution_count": null,
      "metadata": {
        "colab": {
          "base_uri": "https://localhost:8080/"
        },
        "id": "9bRG4Ou48MgA",
        "outputId": "d70220bd-9dde-44f0-b455-1536c6b4a0ea"
      },
      "outputs": [
        {
          "name": "stdout",
          "output_type": "stream",
          "text": [
            "Hello, Sarah!\n",
            "Hello, John!\n",
            "Hello, Hannah!\n",
            "Hello, Dave!\n"
          ]
        }
      ],
      "source": [
        "friends = ['Sarah', 'John', 'Hannah', 'Dave']\n",
        "for friend in friends:\n",
        "    print(f'Hello, {friend}!')"
      ]
    },
    {
      "cell_type": "markdown",
      "metadata": {
        "id": "3M8BJWEK8mFM"
      },
      "source": [
        "### 6.  Continue\n",
        "Take a moment to read the Python documentation on the continue statement.\n",
        "\n",
        "Write a for loop that iterates over the elements of the list cities and prints the length of each string. If the element is None, use the continue statement to skip forward to the next iteration without printing anything.\n",
        "```\n",
        "cities = ['Istanbul', 'Los Angeles', 'Tokyo', None,\n",
        "          'Vienna', None, 'London', 'Beijing', None]\n",
        "```\n"
      ]
    },
    {
      "cell_type": "code",
      "execution_count": null,
      "metadata": {
        "colab": {
          "base_uri": "https://localhost:8080/"
        },
        "id": "RneRYDgM8tJx",
        "outputId": "8692c81b-c95b-4429-a5bb-83eb2e398b5a"
      },
      "outputs": [
        {
          "name": "stdout",
          "output_type": "stream",
          "text": [
            "8\n",
            "11\n",
            "5\n",
            "6\n",
            "6\n",
            "7\n"
          ]
        }
      ],
      "source": [
        "cities = ['Istanbul', 'Los Angeles', 'Tokyo', None,\n",
        "          'Vienna', None, 'London', 'Beijing', None]\n",
        "for city in cities:\n",
        "    if city == None:\n",
        "        continue\n",
        "    print(len(city))"
      ]
    },
    {
      "cell_type": "markdown",
      "metadata": {
        "id": "yp8Z88DlDKs0"
      },
      "source": [
        "### 7. And on and on and on\n",
        "The following code keeps looping forever. (You can hit Ctrl-C to stop it.) Why does the loop keep running? Modify it so that it stops after the first iteration.\n",
        "```\n",
        "while True:\n",
        "    print(\"and on\")\n",
        "```"
      ]
    },
    {
      "cell_type": "code",
      "execution_count": null,
      "metadata": {
        "colab": {
          "base_uri": "https://localhost:8080/"
        },
        "id": "J_BHXHYPCiJv",
        "outputId": "9c14526b-cf79-4fc2-e2cc-c5dd4ad9632d"
      },
      "outputs": [
        {
          "name": "stdout",
          "output_type": "stream",
          "text": [
            "and on\n"
          ]
        }
      ],
      "source": [
        "while True:\n",
        "    print(\"and on\")\n",
        "    break"
      ]
    },
    {
      "cell_type": "markdown",
      "metadata": {
        "id": "2202F6TFDZwB"
      },
      "source": [
        "### 8. Finding Nemo\n",
        "Loop over the elements of the fish_list list below, logging each one. Terminate the loop immediately after printing the string 'Nemo'.\n",
        "```\n",
        "fish_list = ['Dory', 'Marlin', 'Gill', 'Nemo', 'Bruce']\n",
        "```"
      ]
    },
    {
      "cell_type": "code",
      "execution_count": null,
      "metadata": {
        "colab": {
          "base_uri": "https://localhost:8080/"
        },
        "id": "yZtextkfDhs1",
        "outputId": "32780949-3cad-42c6-9cbb-325665be434e"
      },
      "outputs": [
        {
          "name": "stdout",
          "output_type": "stream",
          "text": [
            "Dory\n",
            "Marlin\n",
            "Gill\n",
            "Nemo\n"
          ]
        }
      ],
      "source": [
        "fish_list = ['Dory', 'Marlin', 'Gill', 'Nemo', 'Bruce']\n",
        "\n",
        "for fish in fish_list:\n",
        "    print(fish)\n",
        "    if fish == 'Nemo':\n",
        "        break"
      ]
    },
    {
      "cell_type": "markdown",
      "metadata": {
        "id": "5CPs2zlkEAPN"
      },
      "source": [
        "### 9. Loop on Command\n",
        "Modify the following code so the loop continues iterating until the user inputs 'yes'.\n",
        "```\n",
        "while True:\n",
        "    print('Should I stop looping?')\n",
        "    answer = input()\n",
        "```"
      ]
    },
    {
      "cell_type": "code",
      "execution_count": null,
      "metadata": {
        "colab": {
          "base_uri": "https://localhost:8080/"
        },
        "id": "XFF4v8upDyKZ",
        "outputId": "bd636320-e82d-4e2d-a130-ebfae2474d7f"
      },
      "outputs": [
        {
          "name": "stdout",
          "output_type": "stream",
          "text": [
            "Should I stop looping?\n",
            "no\n",
            "I feel like Sisysphus, please type 'yes'\n",
            "Should I stop looping?\n",
            "no\n",
            "I feel like Sisysphus, please type 'yes'\n",
            "Should I stop looping?\n",
            "no\n",
            "I feel like Sisysphus, please type 'yes'\n",
            "Should I stop looping?\n",
            "no\n",
            "I feel like Sisysphus, please type 'yes'\n",
            "Should I stop looping?\n",
            "yes\n"
          ]
        }
      ],
      "source": [
        "while True:\n",
        "    print('Should I stop looping?')\n",
        "    answer = input()\n",
        "    if answer == 'yes':\n",
        "        break\n",
        "    print(\"I feel like Sisysphus, please type 'yes'\")"
      ]
    },
    {
      "cell_type": "code",
      "execution_count": null,
      "metadata": {
        "id": "V5vR6kz9EYbb"
      },
      "outputs": [],
      "source": []
    },
    {
      "cell_type": "markdown",
      "metadata": {
        "id": "8Xh46tOXJlVr"
      },
      "source": [
        "## IV. Conditionals"
      ]
    },
    {
      "cell_type": "markdown",
      "metadata": {
        "id": "kA8quJQ7Jn0n"
      },
      "source": [
        "### 1. Truthy vs. Falsy\n",
        "Without looking at your notes or the official documentation, try to recall all values that count as falsy in Python."
      ]
    },
    {
      "cell_type": "markdown",
      "metadata": {
        "id": "69ApEpWsJwz7"
      },
      "source": [
        "0, None, False, empty/space"
      ]
    },
    {
      "cell_type": "markdown",
      "metadata": {
        "id": "wniKEp3JKHjp"
      },
      "source": [
        "### 2. Yes? No? Part 1\n",
        "The code provided below randomly initializes random_number to either 0 or 1 each time it is executed.\n",
        "\n",
        "Write an if statement that prints Yes! if random_number is 1, and No. if random_number is 0.\n",
        "\n",
        "```\n",
        "import random\n",
        "random_number = random.randint(0, 1)\n",
        "```"
      ]
    },
    {
      "cell_type": "code",
      "execution_count": null,
      "metadata": {
        "colab": {
          "base_uri": "https://localhost:8080/"
        },
        "id": "_wRk0yElJ5pU",
        "outputId": "ab874099-5d39-4d23-f173-0181e33e27c6"
      },
      "outputs": [
        {
          "name": "stdout",
          "output_type": "stream",
          "text": [
            "No.\n"
          ]
        }
      ],
      "source": [
        "import random\n",
        "random_number = random.randint(0, 1)\n",
        "\n",
        "if random_number:\n",
        "    print('Yes!')\n",
        "else:\n",
        "    print('No.')"
      ]
    },
    {
      "cell_type": "markdown",
      "metadata": {
        "id": "zfwSNcegKweE"
      },
      "source": [
        "### 3. Yes? No? Part 2 (conditional expression)\n",
        "Rewrite your code from the previous exercise to use a ternary expression."
      ]
    },
    {
      "cell_type": "code",
      "execution_count": null,
      "metadata": {
        "colab": {
          "base_uri": "https://localhost:8080/"
        },
        "id": "YgEwCQ8DK1xO",
        "outputId": "1fd3c04d-2bd0-4053-ac44-60db8ddf5904"
      },
      "outputs": [
        {
          "name": "stdout",
          "output_type": "stream",
          "text": [
            "Yes!\n"
          ]
        }
      ],
      "source": [
        "import random\n",
        "random_number = random.randint(0, 1)\n",
        "\n",
        "print('Yes!') if random_number else print('No.')"
      ]
    },
    {
      "cell_type": "markdown",
      "metadata": {
        "id": "cX2EUyksLk3l"
      },
      "source": [
        "### 4. Check the Weather, Part 1\n",
        "Initialize a variable weather with a string value being 'sunny', 'rainy', or whatever weather condition you choose. Then, write an if statement that prints:\n",
        "* It's a beautiful day! if weather's value is 'sunny'\n",
        "* Grab your umbrella. if weather's value is 'rainy'\n",
        "* Let's stay inside. if weather's value is anything else\n",
        "\n",
        "\n",
        "\n",
        "\n"
      ]
    },
    {
      "cell_type": "code",
      "execution_count": null,
      "metadata": {
        "colab": {
          "base_uri": "https://localhost:8080/"
        },
        "id": "_Dkc7cRgLF8E",
        "outputId": "8bf09168-ef61-413c-8922-b6d3b9f3e6cc"
      },
      "outputs": [
        {
          "name": "stdout",
          "output_type": "stream",
          "text": [
            "Let's stay inside.\n"
          ]
        }
      ],
      "source": [
        "weather = 'foggy'\n",
        "\n",
        "if weather == 'sunny':\n",
        "    print(\"It's a beautiful day!\")\n",
        "elif weather == 'rainy':\n",
        "    print('Grab your umbrella.')\n",
        "else:\n",
        "    print(\"Let's stay inside.\")"
      ]
    },
    {
      "cell_type": "markdown",
      "metadata": {
        "id": "5BWWT0u4MyfZ"
      },
      "source": [
        "### 5. Match-Case\n",
        "Examine the code shown below. Without running it, determine what it will print. If you're not sure, refer to our Python book.\n",
        "```\n",
        "animal = 'horse'\n",
        "\n",
        "match animal:\n",
        "    case 'duck':\n",
        "        print('quack')\n",
        "    case 'squirrel':\n",
        "        print('nook nook')\n",
        "    case 'horse':\n",
        "        print('neigh')\n",
        "    case 'bird':\n",
        "        print('tweet tweet')\n",
        "    case _:\n",
        "        print('*cricket*')\n",
        "```\n",
        "\n"
      ]
    },
    {
      "cell_type": "code",
      "execution_count": null,
      "metadata": {
        "colab": {
          "base_uri": "https://localhost:8080/"
        },
        "id": "ycDHNFkVM55G",
        "outputId": "b9697333-838e-4423-d491-92e94e5ba3b8"
      },
      "outputs": [
        {
          "name": "stdout",
          "output_type": "stream",
          "text": [
            "neigh\n"
          ]
        }
      ],
      "source": [
        "animal = 'horse'\n",
        "\n",
        "match animal:\n",
        "    case 'duck':\n",
        "        print('quack')\n",
        "    case 'squirrel':\n",
        "        print('nook nook')\n",
        "    case 'horse':\n",
        "        print('neigh')\n",
        "    case 'bird':\n",
        "        print('tweet tweet')\n",
        "    case _:\n",
        "        print('*cricket*')"
      ]
    },
    {
      "cell_type": "markdown",
      "metadata": {
        "id": "lyD4tQvJNhK8"
      },
      "source": [
        "### 6. Check the Weather, Part 2\n",
        "Take your code from the previous Check the Weather exercise and rewrite it as a match-case statement. Feel free to add more cases besides 'sunny' and 'rainy'."
      ]
    },
    {
      "cell_type": "code",
      "execution_count": null,
      "metadata": {
        "colab": {
          "base_uri": "https://localhost:8080/"
        },
        "id": "ulnDOejhNXwq",
        "outputId": "8dd4cbe8-d8aa-42e4-8464-b8c57f08ed1f"
      },
      "outputs": [
        {
          "name": "stdout",
          "output_type": "stream",
          "text": [
            "Let's stay inside\n"
          ]
        }
      ],
      "source": [
        "weather = 'tornado'\n",
        "\n",
        "match weather:\n",
        "    case  'sunny':\n",
        "        print(\"It's a beautiful day!\")\n",
        "    case 'rainy':\n",
        "        print('Grab your umbrella.')\n",
        "    case 'foggy':\n",
        "        print(\"Hello, Karl the Fog.\")\n",
        "    case 'muggy':\n",
        "        print('Turn the AC on, please.')\n",
        "    case 'snowy':\n",
        "        print('''Yes, you still have to study for Launch School\n",
        "        even if its a snow day.''')\n",
        "    case 'hurricane':\n",
        "        print('Consider evacuating.')\n",
        "    case _:\n",
        "        print(\"Let's stay inside\")"
      ]
    },
    {
      "cell_type": "markdown",
      "metadata": {
        "id": "J1baMpzEPNrr"
      },
      "source": [
        "### 7. Logical Conditions 1\n",
        "Predict the output of the following code:\n",
        "```\n",
        "if False or True:\n",
        "    print('Yes!')\n",
        "else:\n",
        "    print('No...')\n",
        "```"
      ]
    },
    {
      "cell_type": "markdown",
      "metadata": {
        "id": "h2YgLAawPleW"
      },
      "source": [
        "This code will always print \"Yes!\""
      ]
    },
    {
      "cell_type": "code",
      "execution_count": null,
      "metadata": {
        "colab": {
          "base_uri": "https://localhost:8080/"
        },
        "id": "PXYErphUPWoG",
        "outputId": "b1b6cee8-5b4e-49c0-a393-fd22bb9232e7"
      },
      "outputs": [
        {
          "name": "stdout",
          "output_type": "stream",
          "text": [
            "Yes!\n"
          ]
        }
      ],
      "source": [
        "if False or True:\n",
        "    print('Yes!')\n",
        "else:\n",
        "    print('No...')"
      ]
    },
    {
      "cell_type": "markdown",
      "metadata": {
        "id": "3NddbOIkPs6n"
      },
      "source": [
        "### 8. Logical Conditions 2\n",
        "Predict the output of the following code:\n",
        "```\n",
        "if True and False:\n",
        "    print('Yes!')\n",
        "else:\n",
        "    print('No...')\n",
        "```"
      ]
    },
    {
      "cell_type": "markdown",
      "metadata": {
        "id": "zK_0V7CNP5Hg"
      },
      "source": [
        "This code will always print \"No...\""
      ]
    },
    {
      "cell_type": "code",
      "execution_count": null,
      "metadata": {
        "colab": {
          "base_uri": "https://localhost:8080/"
        },
        "id": "09mSicCXPweK",
        "outputId": "5ccaedcd-792d-4f01-dd3e-00ddfd997acc"
      },
      "outputs": [
        {
          "name": "stdout",
          "output_type": "stream",
          "text": [
            "No...\n"
          ]
        }
      ],
      "source": [
        "if True and False:\n",
        "    print('Yes!')\n",
        "else:\n",
        "    print('No...')"
      ]
    },
    {
      "cell_type": "markdown",
      "metadata": {
        "id": "C4xtMtutQEFt"
      },
      "source": [
        "### 9. Logical Conditions 3\n",
        "Without running the following code, determine what will be printed.\n",
        "```\n",
        "sale = True\n",
        "admission_price = 5.25 if not sale else 3.99\n",
        "\n",
        "print(f\"${admission_price}\")\n",
        "```"
      ]
    },
    {
      "cell_type": "code",
      "execution_count": null,
      "metadata": {
        "colab": {
          "base_uri": "https://localhost:8080/"
        },
        "id": "c0vbB1UyQI6j",
        "outputId": "662cf55d-85c7-4b3f-e5d6-9870d7ae6f8b"
      },
      "outputs": [
        {
          "name": "stdout",
          "output_type": "stream",
          "text": [
            "$3.99\n"
          ]
        }
      ],
      "source": [
        "# The above code is the same as:\n",
        "sale = True\n",
        "\n",
        "if sale:\n",
        "    admission_price = 3.99\n",
        "else:\n",
        "    admisssion_price = 5.25\n",
        "\n",
        "print(f'${admission_price}')"
      ]
    },
    {
      "cell_type": "code",
      "execution_count": null,
      "metadata": {
        "colab": {
          "base_uri": "https://localhost:8080/"
        },
        "id": "45bukPI2Qnbv",
        "outputId": "557ee397-2101-47a9-d672-e0149b6dc433"
      },
      "outputs": [
        {
          "name": "stdout",
          "output_type": "stream",
          "text": [
            "$3.99\n"
          ]
        }
      ],
      "source": [
        "sale = True\n",
        "admission_price = 5.25 if not sale else 3.99\n",
        "\n",
        "print(f\"${admission_price}\")\n",
        "\n",
        "# Since sale is Truthy, the code above should print \"3.99\""
      ]
    },
    {
      "cell_type": "markdown",
      "metadata": {
        "id": "i1mGofCtQ_uI"
      },
      "source": [
        "### 10. Are we moving?\n",
        "Determine what the following code snippet prints. First solve it in your head or on paper, then run it in your Python environment to check the result.\n",
        "```\n",
        "speed = 0\n",
        "acceleration = 24\n",
        "braking_force = 19\n",
        "is_moving = braking_force < acceleration and (speed > 0 or acceleration > 0)\n",
        "print(is_moving)\n",
        "```"
      ]
    },
    {
      "cell_type": "markdown",
      "metadata": {
        "id": "vhAccy4aRgdM"
      },
      "source": [
        "The above code will print true.\n",
        "1. Python will first evaluate the parentheses: (speed > 0 OR acceleration > 0) as True\n",
        "1. Python will then evaluate braking_force < acceleration AND Boolean result from parenthesis\n",
        "1. Python will print True"
      ]
    },
    {
      "cell_type": "code",
      "execution_count": null,
      "metadata": {
        "colab": {
          "base_uri": "https://localhost:8080/"
        },
        "id": "MktEDXeMRKL1",
        "outputId": "8e6ecbed-19ce-4796-d1a7-ee2cadb90557"
      },
      "outputs": [
        {
          "name": "stdout",
          "output_type": "stream",
          "text": [
            "True\n"
          ]
        }
      ],
      "source": [
        "speed = 0\n",
        "acceleration = 24\n",
        "braking_force = 19\n",
        "is_moving = braking_force < acceleration and (speed > 0 or acceleration > 0)\n",
        "print(is_moving)"
      ]
    },
    {
      "cell_type": "markdown",
      "metadata": {
        "id": "g-8u_ylFSEh8"
      },
      "source": [
        "#### Bonus question\n",
        "Do we need the parentheses in the boolean expression or could we have written the following?:\n",
        "```\n",
        "is_moving = braking_force < acceleration and speed > 0 or acceleration > 0\n",
        "```"
      ]
    },
    {
      "cell_type": "markdown",
      "metadata": {
        "id": "F8HVwIWASSia"
      },
      "source": [
        "No, because the and operator has a higher precedence than the or operator in Python. The parentheses ensures that the or evaluation is completed first, then the result of that or evaluaiton is used to evaluate the and operation. If the parentheses were not there, it would evaluate the and comparison first, then use that result to evaluate the or comparison.\n",
        "\n",
        "Without the panrentheses, Python will evaluate in the following order:\n",
        "1. braking_force < acceleration and speed > 0 # False\n",
        "1. False or acceleration > 0 #True\n",
        "1. print True\n",
        "\n",
        "In this case, Python still prints \"True\" however, without the parentheses the evalutaion are done out of order.\n",
        "```\n",
        "braking_force < acceleration and speed > 0 or acceleration > 0\n",
        "#is the same as:\n",
        "(braking_force < acceleration and speed > 0) or acceleration > 0\n",
        "#which is not the same as:\n",
        "is_moving = braking_force < acceleration and (speed > 0 or acceleration > 0)\n",
        "```"
      ]
    },
    {
      "cell_type": "code",
      "execution_count": null,
      "metadata": {
        "colab": {
          "base_uri": "https://localhost:8080/"
        },
        "id": "g4Bvb-NXSCTE",
        "outputId": "9e124f00-c8ba-4f5e-975e-8dda4b99a227"
      },
      "outputs": [
        {
          "name": "stdout",
          "output_type": "stream",
          "text": [
            "True\n"
          ]
        }
      ],
      "source": [
        "speed = 0\n",
        "acceleration = 24\n",
        "braking_force = 19\n",
        "is_moving = braking_force < acceleration and speed > 0 or acceleration > 0\n",
        "print(is_moving)"
      ]
    },
    {
      "cell_type": "markdown",
      "metadata": {
        "id": "3enjmBHwUvx1"
      },
      "source": [
        "## V. Functions"
      ]
    },
    {
      "cell_type": "markdown",
      "metadata": {
        "id": "tHPgwHvTU-UQ"
      },
      "source": [
        "### 1. Multiply\n",
        "Examine the function invocation below. Write the function multiply, such that it accepts two arguments and returns the product of its arguments. You may assume that the function arguments will always be numbers.\n",
        "```\n",
        "multiply(12, 4)      # 48\n",
        "```"
      ]
    },
    {
      "cell_type": "code",
      "execution_count": null,
      "metadata": {
        "id": "36FoaaZuVEjp"
      },
      "outputs": [],
      "source": [
        "def multiply(multiplicand, multiplier):\n",
        "\n",
        "    # If both inputs are strings, raise TypeError:\n",
        "    if type(multiplicand) == str and type(multiplier) == str:\n",
        "        raise TypeError(\n",
        "            'Both inputs cannot be type str, only one input can be of type str'\n",
        "        )\n",
        "\n",
        "    return multiplicand * multiplier\n",
        "\n",
        "print(multiply(5, 3))           # 15\n",
        "print(multiply(3.2, 4.2))       # 13.440000000000001 python weirdness\n",
        "print(multiply(3.2, 5))         # 16.0\n",
        "print(multiply(5, 'book'))      # will print 'book' 5 times\n",
        "print(multiply('pen', 'book'))  # will raise TypeError"
      ]
    },
    {
      "cell_type": "markdown",
      "source": [
        "### 2. Print Quote\n",
        "Write a function that prints Bruce Eckel's quote 'Python is executable pseudocode.'. What is the return value of the function?\n",
        "```\n",
        "bruce_eckel_quote()\n",
        "```"
      ],
      "metadata": {
        "id": "i02hV-YQf8D6"
      }
    },
    {
      "cell_type": "code",
      "source": [
        "def bruce_eckel_quote():\n",
        "    print('Python is executable pseudocode.')\n",
        "\n",
        "bruce_eckel_quote()"
      ],
      "metadata": {
        "colab": {
          "base_uri": "https://localhost:8080/"
        },
        "id": "wDIdyKrEafVw",
        "outputId": "6754c39c-05f8-4001-d17f-0cb9216e26ba"
      },
      "execution_count": null,
      "outputs": [
        {
          "output_type": "stream",
          "name": "stdout",
          "text": [
            "Python is executable pseudocode.\n"
          ]
        }
      ]
    },
    {
      "cell_type": "markdown",
      "source": [
        "### 3. Cite the Author\n",
        "Let's generalize the function from the previous exercise. Implement a function named cite that takes two string arguments: the author of the quote and what they said. It then prints the quote, as shown below.\n",
        "```\n",
        "cite('Bruce Eckel', 'Python is executable pseudocode.')\n",
        "# Bruce Eckel said: \"Python is executable pseudocode.\"\n",
        "```"
      ],
      "metadata": {
        "id": "SiKuD50dgc7j"
      }
    },
    {
      "cell_type": "code",
      "source": [
        "def cite(author, quote):\n",
        "    print(f'{author} said: {quote}')\n",
        "\n",
        "\n",
        "cite('Victor Hugo', 'Nothing makes a man so adventurous as an empty pocket.')\n",
        "\n",
        "cite(\n",
        "    'Henry David Thoreau',\n",
        "    'There are nowadays professors of philosophy, but not philosophers.'\n",
        "    )"
      ],
      "metadata": {
        "colab": {
          "base_uri": "https://localhost:8080/"
        },
        "id": "SxIB-YnWgPNT",
        "outputId": "ef8e73e8-574a-40ec-eaf8-b5d9625ff87e"
      },
      "execution_count": null,
      "outputs": [
        {
          "output_type": "stream",
          "name": "stdout",
          "text": [
            "Victor Hugo said: Nothing makes a man so adventurous as an empty pocket.\n",
            "Henry David Thoreau said: There are nowadays professors of philosophy, but not philosophers.\n"
          ]
        }
      ]
    },
    {
      "cell_type": "markdown",
      "source": [
        "### 4. Squared Number\n",
        "Write a function that accepts a single argument, a number, and returns the result of multiplying its argument by an exponent of 2 (also known as squaring the number or raising the number to the power of 2).\n",
        "```\n",
        "squared_number(3)   # 9\n",
        "```"
      ],
      "metadata": {
        "id": "etCLvgvCiSS5"
      }
    },
    {
      "cell_type": "code",
      "source": [
        "def squared_number(base):\n",
        "    return base ** 2\n",
        "    # also valid: return base * base\n",
        "\n",
        "print(squared_number(3))\n",
        "print(squared_number(1))\n",
        "print(squared_number(0))\n",
        "print(squared_number(1))\n",
        "print(squared_number(-1))\n",
        "print(squared_number(-5))"
      ],
      "metadata": {
        "colab": {
          "base_uri": "https://localhost:8080/"
        },
        "id": "AAipVXh-gx_-",
        "outputId": "39d36112-b68d-49d4-d915-8be993ce8eb0"
      },
      "execution_count": null,
      "outputs": [
        {
          "output_type": "stream",
          "name": "stdout",
          "text": [
            "9\n",
            "1\n",
            "0\n",
            "1\n",
            "1\n",
            "25\n"
          ]
        }
      ]
    },
    {
      "cell_type": "markdown",
      "source": [
        "### 5. Display Division\n",
        "Without running the following code, determine what it will print:\n",
        "```\n",
        "def multiples_of_three():\n",
        "    divisor = 1\n",
        "\n",
        "    for dividend in range(3, 31, 3):\n",
        "        print(f'{dividend} / {divisor} = 3')\n",
        "        divisor += 1\n",
        "\n",
        "multiples_of_three\n",
        "```"
      ],
      "metadata": {
        "id": "_QRLklcojKol"
      }
    },
    {
      "cell_type": "markdown",
      "source": [
        "The above code will not print anything becase the function on line 8 was never invoked.  \n",
        "If you add parentheses () to the end of the function, it will be invoked and will print the following:  \n",
        "3 / 1 = 3  \n",
        "6 / 2 = 3  \n",
        "9 / 3 = 3  \n",
        "12 / 4 = 3  \n",
        "15 / 5 = 3  \n",
        "18 / 6 = 3  \n",
        "21 / 7 = 3  \n",
        "24 / 8 = 3  \n",
        "27 / 9 = 3  \n",
        "30 / 10 = 3"
      ],
      "metadata": {
        "id": "POlsigijjo1o"
      }
    },
    {
      "cell_type": "code",
      "source": [
        "def multiples_of_three():\n",
        "    divisor = 1\n",
        "\n",
        "    for dividend in range(3, 31, 3):\n",
        "        print(f'{dividend} / {divisor} = 3')\n",
        "        divisor += 1\n",
        "\n",
        "multiples_of_three"
      ],
      "metadata": {
        "colab": {
          "base_uri": "https://localhost:8080/",
          "height": 103
        },
        "id": "04S4ovnpioPq",
        "outputId": "7c08ce92-35bf-45db-9ffe-48f0ce872b5f"
      },
      "execution_count": null,
      "outputs": [
        {
          "output_type": "execute_result",
          "data": {
            "text/plain": [
              "<function __main__.multiples_of_three()>"
            ],
            "text/html": [
              "<div style=\"max-width:800px; border: 1px solid var(--colab-border-color);\"><style>\n",
              "      pre.function-repr-contents {\n",
              "        overflow-x: auto;\n",
              "        padding: 8px 12px;\n",
              "        max-height: 500px;\n",
              "      }\n",
              "\n",
              "      pre.function-repr-contents.function-repr-contents-collapsed {\n",
              "        cursor: pointer;\n",
              "        max-height: 100px;\n",
              "      }\n",
              "    </style>\n",
              "    <pre style=\"white-space: initial; background:\n",
              "         var(--colab-secondary-surface-color); padding: 8px 12px;\n",
              "         border-bottom: 1px solid var(--colab-border-color);\"><b>multiples_of_three</b><br/>def multiples_of_three()</pre><pre class=\"function-repr-contents function-repr-contents-collapsed\" style=\"\"><a class=\"filepath\" style=\"display:none\" href=\"#\">/content/&lt;ipython-input-39-bf8537794f41&gt;</a>&lt;no docstring&gt;</pre></div>"
            ]
          },
          "metadata": {},
          "execution_count": 39
        }
      ]
    },
    {
      "cell_type": "code",
      "source": [
        "def multiples_of_three():\n",
        "    divisor = 1\n",
        "\n",
        "    for dividend in range(3, 31, 3):\n",
        "        print(f'{dividend} / {divisor} = 3')\n",
        "        divisor += 1\n",
        "\n",
        "multiples_of_three()"
      ],
      "metadata": {
        "colab": {
          "base_uri": "https://localhost:8080/"
        },
        "id": "bgmAt37fkiI4",
        "outputId": "ba3fcdb6-69c8-418b-be41-bc514a33a235"
      },
      "execution_count": null,
      "outputs": [
        {
          "output_type": "stream",
          "name": "stdout",
          "text": [
            "3 / 1 = 3\n",
            "6 / 2 = 3\n",
            "9 / 3 = 3\n",
            "12 / 4 = 3\n",
            "15 / 5 = 3\n",
            "18 / 6 = 3\n",
            "21 / 7 = 3\n",
            "24 / 8 = 3\n",
            "27 / 9 = 3\n",
            "30 / 10 = 3\n"
          ]
        }
      ]
    },
    {
      "cell_type": "markdown",
      "source": [
        "### 6. Three-way Comparison\n",
        "Write a function that compares the length of two strings. It should return -1 if the first string is shorter, 1 if the second string is shorter, and 0 if they're of equal length. For example:\n",
        "```\n",
        "compare_by_length('patience', 'perseverance') # -1\n",
        "compare_by_length('strength', 'dignity')      #  1\n",
        "compare_by_length('humor', 'grace')           #  0\n",
        "```"
      ],
      "metadata": {
        "id": "jkAfzQI_lKHv"
      }
    },
    {
      "cell_type": "code",
      "source": [
        "def compare_by_length(str1, str2):\n",
        "    if type(str1) != str or type(str2) != str:\n",
        "        raise TypeError('Both inputs must be strings')\n",
        "    elif len(str1) < len(str2):\n",
        "        return -1\n",
        "    elif len(str1) > len(str2):\n",
        "        return 1\n",
        "    elif len(str1) == len(str2):\n",
        "        return 0\n",
        "    else:\n",
        "        raise RuntimeError(\n",
        "            'Unexpected condition occurred in compare_by_length function'\n",
        "            )\n",
        "\n",
        "print(compare_by_length('patience', 'perseverance'))  # -1\n",
        "print(compare_by_length('strength', 'dignity'))       #  1\n",
        "print(compare_by_length('humor', 'grace'))            #  0\n",
        "print(compare_by_length(5, 'book'))                   #  TypeError\n",
        "print(compare_by_length(5,3))                         #  TypeError"
      ],
      "metadata": {
        "id": "n3Y3gRpzk--n"
      },
      "execution_count": null,
      "outputs": []
    },
    {
      "cell_type": "markdown",
      "source": [
        "### 7. Transformation\n",
        "Use Python's string methods on the string 'Captain Ruby' to create a string with the value 'Captain Python'."
      ],
      "metadata": {
        "id": "YSkEWVmypwoh"
      }
    },
    {
      "cell_type": "code",
      "source": [
        "'Captain Ruby'.replace('Ruby', 'Python')"
      ],
      "metadata": {
        "colab": {
          "base_uri": "https://localhost:8080/",
          "height": 35
        },
        "id": "r8THjEXSnMKz",
        "outputId": "2f7c1cbd-6336-443a-d053-c09845a8d936"
      },
      "execution_count": null,
      "outputs": [
        {
          "output_type": "execute_result",
          "data": {
            "text/plain": [
              "'Captain Python'"
            ],
            "application/vnd.google.colaboratory.intrinsic+json": {
              "type": "string"
            }
          },
          "metadata": {},
          "execution_count": 72
        }
      ]
    },
    {
      "cell_type": "code",
      "source": [
        "my_string = 'Captain Ruby'\n",
        "my_string = my_string.replace('Ruby', 'Python')\n",
        "print(my_string)"
      ],
      "metadata": {
        "colab": {
          "base_uri": "https://localhost:8080/"
        },
        "id": "kiBCg96-qvP_",
        "outputId": "4b3245b6-7a8b-4270-e227-f1629904bee2"
      },
      "execution_count": null,
      "outputs": [
        {
          "output_type": "stream",
          "name": "stdout",
          "text": [
            "Captain Python\n"
          ]
        }
      ]
    },
    {
      "cell_type": "markdown",
      "source": [
        "### 8. Internationalization 1\n",
        "Use Python's control structures to create a function that takes an ISO 639-1 language code and returns a greeting in that language. You can take the examples below or add whatever languages you like.\n",
        "\n"
      ],
      "metadata": {
        "id": "TGVqeQJbsYQn"
      }
    },
    {
      "cell_type": "code",
      "source": [
        "def greet(lang):\n",
        "    match lang:\n",
        "        case 'en':\n",
        "            return 'Hi!'\n",
        "        case 'fr':\n",
        "            return 'Salut!'\n",
        "        case 'pt':\n",
        "            return 'Olá!'\n",
        "        case 'de':\n",
        "            return 'Hallo!'\n",
        "        case 'sv':\n",
        "            return 'Hej!'\n",
        "        case 'af':\n",
        "            return 'Haai!'\n",
        "        case 'hy':\n",
        "            return 'Ողջու՜յն'\n",
        "\n",
        "print(greet('en'))         # Hi!\n",
        "print(greet('fr'))         # Salut!\n",
        "print(greet('pt'))         # Olá!\n",
        "print(greet('de'))         # Hallo!\n",
        "print(greet('sv'))         # Hej!\n",
        "print(greet('af'))         # Haai!\n",
        "print(greet('hy'))        # Ողջու՜յն"
      ],
      "metadata": {
        "colab": {
          "base_uri": "https://localhost:8080/"
        },
        "id": "v7KAqjwKsOOk",
        "outputId": "8b054092-fa1b-4d2a-814a-99004d23952a"
      },
      "execution_count": null,
      "outputs": [
        {
          "output_type": "stream",
          "name": "stdout",
          "text": [
            "Hi!\n",
            "Salut!\n",
            "Olá!\n",
            "Hallo!\n",
            "Hej!\n",
            "Haai!\n",
            "Ողջու՜յն\n"
          ]
        }
      ]
    },
    {
      "cell_type": "markdown",
      "source": [
        "### Locale Part 1\n",
        "Write a function that extracts the language code from a locale. A locale is a combination of a language code, a region, and usually also a character set, e.g en_US.UTF-8.\n",
        "```\n",
        "print(extract_language('en_US.UTF-8'))      # en\n",
        "print(extract_language('en_GB.UTF-8'))      # en\n",
        "print(extract_language('ko_KR.UTF-16'))     # ko\n",
        "```"
      ],
      "metadata": {
        "id": "PGQBPmeVvTcG"
      }
    },
    {
      "cell_type": "code",
      "source": [
        "def extract_language(locale):\n",
        "    lang = locale[0:locale.find('_')]\n",
        "    return lang\n",
        "\n",
        "print(extract_language('en_US.UTF-8'))      # en\n",
        "print(extract_language('en_GB.UTF-8'))      # en\n",
        "print(extract_language('ko_KR.UTF-16'))     # ko"
      ],
      "metadata": {
        "colab": {
          "base_uri": "https://localhost:8080/"
        },
        "id": "HYTAQeEWt9r0",
        "outputId": "5c8c521b-54ad-46fd-abaf-d5a5bc86cd92"
      },
      "execution_count": null,
      "outputs": [
        {
          "output_type": "stream",
          "name": "stdout",
          "text": [
            "en\n",
            "en\n",
            "ko\n"
          ]
        }
      ]
    },
    {
      "cell_type": "markdown",
      "source": [
        "### Locale Part 2\n",
        "Similar to the previous exercise, write a function that extracts the region code from a locale. For example:\n",
        "```\n",
        "print(extract_region('en_US.UTF-8'))    # US\n",
        "print(extract_region('en_GB.UTF-8'))    # GB\n",
        "print(extract_region('ko_KR.UTF-16'))   # KR\n",
        "```"
      ],
      "metadata": {
        "id": "yy23u9QgxVEf"
      }
    },
    {
      "cell_type": "code",
      "source": [
        "def extract_region(locale):\n",
        "    region = locale[locale.find('_') + 1: locale.find('.')]\n",
        "    return region\n",
        "\n",
        "print(extract_region('en_US.UTF-8'))    # US\n",
        "print(extract_region('en_GB.UTF-8'))    # GB\n",
        "print(extract_region('ko_KR.UTF-16'))   # KR"
      ],
      "metadata": {
        "colab": {
          "base_uri": "https://localhost:8080/"
        },
        "id": "iCbjRPRYv2NI",
        "outputId": "560fe65d-4806-4e2d-9576-03f0661b9d2d"
      },
      "execution_count": null,
      "outputs": [
        {
          "output_type": "stream",
          "name": "stdout",
          "text": [
            "US\n",
            "GB\n",
            "KR\n"
          ]
        }
      ]
    },
    {
      "cell_type": "markdown",
      "source": [
        "### Internationalization 2\n",
        "Building on your solutions from the previous exercises, write a function local_greet that takes a locale as input, and returns a greeting. The locale lets us greet people from different countries appropriately, even when they share a common language, for example:\n",
        "```\n",
        "print(local_greet('en_US.UTF-8'))       # Hey!\n",
        "print(local_greet('en_GB.UTF-8'))       # Hello!\n",
        "print(local_greet('en_AU.UTF-8'))       # Howdy!\n",
        "```\n",
        "Distinguish greetings for English speaking countries like the US, UK, Canada, or Australia in your implementation, and feel free to fall back on the language-specific greetings in all other cases, for example:\n",
        "```\n",
        "print(local_greet('fr_FR.UTF-8'))       # Salut!\n",
        "print(local_greet('fr_CA.UTF-8'))       # Salut!\n",
        "print(local_greet('fr_MA.UTF-8'))       # Salut!\n",
        "```\n",
        "When implementing local_greet, make sure you re-use your extract_language, extract_region, and greet functions from the previous exercises.\n",
        "\n",
        "If you're interested, you can find a list of locales here: https://www.localeplanet.com/icu/iso639.html\n",
        "\n"
      ],
      "metadata": {
        "id": "FOnNMkR0zKGV"
      }
    },
    {
      "cell_type": "code",
      "source": [
        "def extract_language(locale):\n",
        "    lang = locale[0:locale.find('_')]\n",
        "    return lang\n",
        "\n",
        "def extract_region(locale):\n",
        "    region = locale[locale.find('_') + 1: locale.find('.')]\n",
        "    return region\n",
        "\n",
        "def greet(lang):\n",
        "    match lang:\n",
        "        case 'en':\n",
        "            return 'Hi!'\n",
        "        case 'fr':\n",
        "            return 'Salut!'\n",
        "        case 'pt':\n",
        "            return 'Olá!'\n",
        "        case 'de':\n",
        "            return 'Hallo!'\n",
        "        case 'sv':\n",
        "            return 'Hej!'\n",
        "        case 'af':\n",
        "            return 'Haai!'\n",
        "        case 'hy':\n",
        "            return 'Ողջու՜յն'\n",
        "\n",
        "def local_greet(locale):\n",
        "    reg = extract_region(locale)\n",
        "    lang = extract_language(locale)\n",
        "\n",
        "    match (lang, reg):\n",
        "        case ('en', 'US'):\n",
        "            return 'Hey!'\n",
        "        case ('en', 'GB'):\n",
        "            return 'Hello!'\n",
        "        case ('en', 'AU'):\n",
        "            return 'Howdy!'\n",
        "        case ('fr', 'CA'):\n",
        "            return 'Salut!'\n",
        "        case ('en', 'CA'):\n",
        "            return 'Hi!'\n",
        "        case _:\n",
        "            return greet(lang)\n",
        "\n",
        "\n",
        "print(local_greet('en_US.UTF-8'))       # Hey!\n",
        "print(local_greet('en_GB.UTF-8'))       # Hello!\n",
        "print(local_greet('en_AU.UTF-8'))       # Howdy!\n",
        "print(local_greet('en_CA.UTF-8'))       # Howdy!\n",
        "print(local_greet('fr_FR.UTF-8'))       # Salut!\n",
        "print(local_greet('fr_CA.UTF-8'))       # Salut!\n",
        "print(local_greet('fr_MA.UTF-8'))       # Salut!\n",
        "print(local_greet('hy_AM.UTF-8'))       # Ողջու՜յն"
      ],
      "metadata": {
        "colab": {
          "base_uri": "https://localhost:8080/"
        },
        "id": "MH-1Gr72x1qs",
        "outputId": "2ac9cb67-e6bb-495d-ed52-be31cad82c7a"
      },
      "execution_count": null,
      "outputs": [
        {
          "output_type": "stream",
          "name": "stdout",
          "text": [
            "Hey!\n",
            "Hello!\n",
            "Howdy!\n",
            "Hi!\n",
            "Salut!\n",
            "Salut!\n",
            "Salut!\n",
            "Ողջու՜յն\n"
          ]
        }
      ]
    },
    {
      "cell_type": "markdown",
      "source": [
        "## VI. Variable Scope\n",
        "What's my Value?"
      ],
      "metadata": {
        "id": "dhoUSQJKagw9"
      }
    },
    {
      "cell_type": "markdown",
      "source": [
        "### Part 1\n",
        "What will the following code do and why? Don't run it until you have tried to answer.\n",
        "```\n",
        "if True:\n",
        "    my_value = 20\n",
        "\n",
        "print(my_value)\n",
        "```"
      ],
      "metadata": {
        "id": "1QCCD1kdap7k"
      }
    },
    {
      "cell_type": "markdown",
      "source": [
        "In Python, variables initialized inside a block (like inside an if statement) are accessible outside of that block. Thus, the variable my_value initialized inside the if block on line 2 can be accessed and printed on line 4. The output of the print(my_value) statement is 20."
      ],
      "metadata": {
        "id": "y65u6qPba5oZ"
      }
    },
    {
      "cell_type": "code",
      "source": [
        "if True:\n",
        "    my_value = 20\n",
        "\n",
        "print(my_value)"
      ],
      "metadata": {
        "colab": {
          "base_uri": "https://localhost:8080/"
        },
        "id": "_jIQ-gAIagjw",
        "outputId": "c2c94116-1ac9-4cbb-9acb-373b71fc0938"
      },
      "execution_count": null,
      "outputs": [
        {
          "output_type": "stream",
          "name": "stdout",
          "text": [
            "20\n"
          ]
        }
      ]
    },
    {
      "cell_type": "code",
      "source": [
        "if False:\n",
        "    my_new_value = 42\n",
        "\n",
        "print(my_new_value)"
      ],
      "metadata": {
        "id": "v8CcLQDL2Vkm",
        "colab": {
          "base_uri": "https://localhost:8080/",
          "height": 176
        },
        "outputId": "0fdaed9f-0439-4031-95aa-5aa82efebf21"
      },
      "execution_count": null,
      "outputs": [
        {
          "output_type": "error",
          "ename": "NameError",
          "evalue": "name 'my_new_value' is not defined",
          "traceback": [
            "\u001b[0;31m---------------------------------------------------------------------------\u001b[0m",
            "\u001b[0;31mNameError\u001b[0m                                 Traceback (most recent call last)",
            "\u001b[0;32m<ipython-input-1-a34ef4e7da9a>\u001b[0m in \u001b[0;36m<cell line: 4>\u001b[0;34m()\u001b[0m\n\u001b[1;32m      2\u001b[0m     \u001b[0mmy_new_value\u001b[0m \u001b[0;34m=\u001b[0m \u001b[0;36m42\u001b[0m\u001b[0;34m\u001b[0m\u001b[0;34m\u001b[0m\u001b[0m\n\u001b[1;32m      3\u001b[0m \u001b[0;34m\u001b[0m\u001b[0m\n\u001b[0;32m----> 4\u001b[0;31m \u001b[0mprint\u001b[0m\u001b[0;34m(\u001b[0m\u001b[0mmy_new_value\u001b[0m\u001b[0;34m)\u001b[0m\u001b[0;34m\u001b[0m\u001b[0;34m\u001b[0m\u001b[0m\n\u001b[0m",
            "\u001b[0;31mNameError\u001b[0m: name 'my_new_value' is not defined"
          ]
        }
      ]
    },
    {
      "cell_type": "code",
      "source": [],
      "metadata": {
        "id": "u4GxmJM_bfEi"
      },
      "execution_count": null,
      "outputs": []
    },
    {
      "cell_type": "markdown",
      "source": [
        "### Part 2\n",
        "What will the following code do and why? Don't run it until you have tried to answer.\n",
        "```\n",
        "x = 10\n",
        "\n",
        "def my_function():\n",
        "    x = x + 5\n",
        "    print(x)\n",
        "\n",
        "my_function()\n",
        "```"
      ],
      "metadata": {
        "id": "aU8ptPW0cGit"
      }
    },
    {
      "cell_type": "markdown",
      "source": [
        "In the function my_function, when we attempt to reassign the value of x by incrementing it, Python assumes that x is a local variable since we're assigning it inside the function. However, since it is uninitialized, we get an error. If we wanted to modify the global x, we would need to use the global keyword.\n",
        "\n"
      ],
      "metadata": {
        "id": "qvL-iD1_ch0N"
      }
    },
    {
      "cell_type": "code",
      "source": [
        "x = 10\n",
        "\n",
        "def my_function():\n",
        "    x = x + 5\n",
        "    print(x)\n",
        "\n",
        "my_function()"
      ],
      "metadata": {
        "colab": {
          "base_uri": "https://localhost:8080/",
          "height": 297
        },
        "id": "1I1HgtuCcIYe",
        "outputId": "95dc8060-6a56-498d-e56b-ce31714a2476"
      },
      "execution_count": null,
      "outputs": [
        {
          "output_type": "error",
          "ename": "UnboundLocalError",
          "evalue": "local variable 'x' referenced before assignment",
          "traceback": [
            "\u001b[0;31m---------------------------------------------------------------------------\u001b[0m",
            "\u001b[0;31mUnboundLocalError\u001b[0m                         Traceback (most recent call last)",
            "\u001b[0;32m<ipython-input-2-213f92a9b2a6>\u001b[0m in \u001b[0;36m<cell line: 7>\u001b[0;34m()\u001b[0m\n\u001b[1;32m      5\u001b[0m     \u001b[0mprint\u001b[0m\u001b[0;34m(\u001b[0m\u001b[0mx\u001b[0m\u001b[0;34m)\u001b[0m\u001b[0;34m\u001b[0m\u001b[0;34m\u001b[0m\u001b[0m\n\u001b[1;32m      6\u001b[0m \u001b[0;34m\u001b[0m\u001b[0m\n\u001b[0;32m----> 7\u001b[0;31m \u001b[0mmy_function\u001b[0m\u001b[0;34m(\u001b[0m\u001b[0;34m)\u001b[0m\u001b[0;34m\u001b[0m\u001b[0;34m\u001b[0m\u001b[0m\n\u001b[0m",
            "\u001b[0;32m<ipython-input-2-213f92a9b2a6>\u001b[0m in \u001b[0;36mmy_function\u001b[0;34m()\u001b[0m\n\u001b[1;32m      2\u001b[0m \u001b[0;34m\u001b[0m\u001b[0m\n\u001b[1;32m      3\u001b[0m \u001b[0;32mdef\u001b[0m \u001b[0mmy_function\u001b[0m\u001b[0;34m(\u001b[0m\u001b[0;34m)\u001b[0m\u001b[0;34m:\u001b[0m\u001b[0;34m\u001b[0m\u001b[0;34m\u001b[0m\u001b[0m\n\u001b[0;32m----> 4\u001b[0;31m     \u001b[0mx\u001b[0m \u001b[0;34m=\u001b[0m \u001b[0mx\u001b[0m \u001b[0;34m+\u001b[0m \u001b[0;36m5\u001b[0m\u001b[0;34m\u001b[0m\u001b[0;34m\u001b[0m\u001b[0m\n\u001b[0m\u001b[1;32m      5\u001b[0m     \u001b[0mprint\u001b[0m\u001b[0;34m(\u001b[0m\u001b[0mx\u001b[0m\u001b[0;34m)\u001b[0m\u001b[0;34m\u001b[0m\u001b[0;34m\u001b[0m\u001b[0m\n\u001b[1;32m      6\u001b[0m \u001b[0;34m\u001b[0m\u001b[0m\n",
            "\u001b[0;31mUnboundLocalError\u001b[0m: local variable 'x' referenced before assignment"
          ]
        }
      ]
    },
    {
      "cell_type": "markdown",
      "source": [
        "### Part 3\n",
        "What will the following code do and why? Don't run it until you have tried to answer.\n",
        "```\n",
        "def my_function():\n",
        "    a = 1\n",
        "\n",
        "    if True:\n",
        "        print(a)\n",
        "\n",
        "my_function()\n",
        "```"
      ],
      "metadata": {
        "id": "eiOZ7GZWcv5D"
      }
    },
    {
      "cell_type": "markdown",
      "source": [
        "It will print 1. a is correctly intitialized, the if block reads True, and the function is correctly invoked."
      ],
      "metadata": {
        "id": "2V9YD8ZKc3N3"
      }
    },
    {
      "cell_type": "code",
      "source": [
        "def my_function():\n",
        "    a = 1\n",
        "\n",
        "    if True:\n",
        "        print(a)\n",
        "\n",
        "my_function()"
      ],
      "metadata": {
        "colab": {
          "base_uri": "https://localhost:8080/"
        },
        "id": "pq3nnEb-cj8f",
        "outputId": "9fd56c58-1fbd-4f81-dab3-3dedd15d5b96"
      },
      "execution_count": null,
      "outputs": [
        {
          "output_type": "stream",
          "name": "stdout",
          "text": [
            "1\n"
          ]
        }
      ]
    },
    {
      "cell_type": "markdown",
      "source": [
        "### Part 4\n",
        "What will the following code do and why? Don't run it until you have tried to answer.\n",
        "```\n",
        "a = 1\n",
        "\n",
        "def my_function():\n",
        "    print(a)\n",
        "\n",
        "my_function()\n",
        "```"
      ],
      "metadata": {
        "id": "zkHaZezodVVL"
      }
    },
    {
      "cell_type": "markdown",
      "source": [
        "The variable a is initialized at the top level of our code and is initialized with the value 1. This makes it globally accessible throughout the code, including within the body of the my_function. When we invoke my_function, it prints the value of the global variable a, which is 1.\n",
        "\n",
        "The reason this works, but Part 2 doesn't, is because in Part 2 you are trying to change the variable or reassign, here we are just passing it into the print function. As long as you are just referenceing a, not chanign it, it should work.\n"
      ],
      "metadata": {
        "id": "OS3_bW6hdbQb"
      }
    },
    {
      "cell_type": "code",
      "source": [
        "a = 1\n",
        "\n",
        "def my_function():\n",
        "    print(a)\n",
        "\n",
        "my_function()"
      ],
      "metadata": {
        "colab": {
          "base_uri": "https://localhost:8080/"
        },
        "id": "HlVWkjIsdP2v",
        "outputId": "b36bfbb3-2940-44c9-b75a-73e2907730fd"
      },
      "execution_count": null,
      "outputs": [
        {
          "output_type": "stream",
          "name": "stdout",
          "text": [
            "1\n"
          ]
        }
      ]
    },
    {
      "cell_type": "markdown",
      "source": [
        "### Part 5\n",
        "What will the following code do and why? Don't run it until you have tried to answer.\n",
        "```\n",
        "a = 1\n",
        "\n",
        "def my_function():\n",
        "    print(a)\n",
        "    a = 2\n",
        "\n",
        "my_function()\n",
        "```"
      ],
      "metadata": {
        "id": "XPeaT0q7eqgZ"
      }
    },
    {
      "cell_type": "markdown",
      "source": [
        "Python detects that a is being assigned within the my_function function and therefore treats it as a local variable. However, since we are trying to print the local a variable's value before it has been assigned a value, we get an error.\n",
        "\n",
        "If you try to assign a varibale in a function, Python will think of it as a local variable and will not look for global variables."
      ],
      "metadata": {
        "id": "kZw0-2Nke0xH"
      }
    },
    {
      "cell_type": "code",
      "source": [
        "a = 1\n",
        "\n",
        "def my_function():\n",
        "    print(a)\n",
        "    a = 2\n",
        "\n",
        "my_function()"
      ],
      "metadata": {
        "colab": {
          "base_uri": "https://localhost:8080/",
          "height": 297
        },
        "id": "8JXPyFMReqRt",
        "outputId": "cbb23826-0d55-4a45-a99c-d813e5484c17"
      },
      "execution_count": null,
      "outputs": [
        {
          "output_type": "error",
          "ename": "UnboundLocalError",
          "evalue": "local variable 'a' referenced before assignment",
          "traceback": [
            "\u001b[0;31m---------------------------------------------------------------------------\u001b[0m",
            "\u001b[0;31mUnboundLocalError\u001b[0m                         Traceback (most recent call last)",
            "\u001b[0;32m<ipython-input-4-44dcc799c884>\u001b[0m in \u001b[0;36m<cell line: 7>\u001b[0;34m()\u001b[0m\n\u001b[1;32m      5\u001b[0m     \u001b[0ma\u001b[0m \u001b[0;34m=\u001b[0m \u001b[0;36m2\u001b[0m\u001b[0;34m\u001b[0m\u001b[0;34m\u001b[0m\u001b[0m\n\u001b[1;32m      6\u001b[0m \u001b[0;34m\u001b[0m\u001b[0m\n\u001b[0;32m----> 7\u001b[0;31m \u001b[0mmy_function\u001b[0m\u001b[0;34m(\u001b[0m\u001b[0;34m)\u001b[0m\u001b[0;34m\u001b[0m\u001b[0;34m\u001b[0m\u001b[0m\n\u001b[0m",
            "\u001b[0;32m<ipython-input-4-44dcc799c884>\u001b[0m in \u001b[0;36mmy_function\u001b[0;34m()\u001b[0m\n\u001b[1;32m      2\u001b[0m \u001b[0;34m\u001b[0m\u001b[0m\n\u001b[1;32m      3\u001b[0m \u001b[0;32mdef\u001b[0m \u001b[0mmy_function\u001b[0m\u001b[0;34m(\u001b[0m\u001b[0;34m)\u001b[0m\u001b[0;34m:\u001b[0m\u001b[0;34m\u001b[0m\u001b[0;34m\u001b[0m\u001b[0m\n\u001b[0;32m----> 4\u001b[0;31m     \u001b[0mprint\u001b[0m\u001b[0;34m(\u001b[0m\u001b[0ma\u001b[0m\u001b[0;34m)\u001b[0m\u001b[0;34m\u001b[0m\u001b[0;34m\u001b[0m\u001b[0m\n\u001b[0m\u001b[1;32m      5\u001b[0m     \u001b[0ma\u001b[0m \u001b[0;34m=\u001b[0m \u001b[0;36m2\u001b[0m\u001b[0;34m\u001b[0m\u001b[0;34m\u001b[0m\u001b[0m\n\u001b[1;32m      6\u001b[0m \u001b[0;34m\u001b[0m\u001b[0m\n",
            "\u001b[0;31mUnboundLocalError\u001b[0m: local variable 'a' referenced before assignment"
          ]
        }
      ]
    },
    {
      "cell_type": "markdown",
      "source": [
        "### Part 6\n",
        "What will the following code do and why? Don't run it until you have tried to answer.\n",
        "```\n",
        "a = 1\n",
        "\n",
        "def my_function():\n",
        "    a = 2\n",
        "\n",
        "my_function()\n",
        "print(a)\n",
        "```"
      ],
      "metadata": {
        "id": "OoOIzb49gQEj"
      }
    },
    {
      "cell_type": "markdown",
      "source": [
        "The code will print 1, because the a in the function is a local variable, but line 1 is a global function, the print function is invoked in the global frame."
      ],
      "metadata": {
        "id": "rlduYAYxgV3A"
      }
    },
    {
      "cell_type": "code",
      "source": [
        "a = 1\n",
        "\n",
        "def my_function():\n",
        "    a = 2\n",
        "\n",
        "my_function()\n",
        "print(a)"
      ],
      "metadata": {
        "colab": {
          "base_uri": "https://localhost:8080/"
        },
        "id": "djAULB90gP5E",
        "outputId": "f7736c85-fa2e-4c9c-b25a-e20e8a66ade7"
      },
      "execution_count": null,
      "outputs": [
        {
          "output_type": "stream",
          "name": "stdout",
          "text": [
            "1\n"
          ]
        }
      ]
    },
    {
      "cell_type": "markdown",
      "source": [
        "### Part 7\n",
        "What will the following code do and why? Don't run it until you have tried to answer.\n",
        "```\n",
        "a = 1\n",
        "\n",
        "def my_function():\n",
        "    global a\n",
        "    a = 2\n",
        "\n",
        "my_function()\n",
        "print(a)\n",
        "```"
      ],
      "metadata": {
        "id": "hOQxU19Fgo6w"
      }
    },
    {
      "cell_type": "markdown",
      "source": [
        "It will print 2 because by using the global keyword you told Python that it can use and mess with the variable a in the globla scope."
      ],
      "metadata": {
        "id": "vf7px9jFg0Q3"
      }
    },
    {
      "cell_type": "code",
      "source": [
        "a = 1\n",
        "\n",
        "def my_function():\n",
        "    global a\n",
        "    a = 2\n",
        "\n",
        "my_function()\n",
        "print(a)"
      ],
      "metadata": {
        "colab": {
          "base_uri": "https://localhost:8080/"
        },
        "id": "BtmYcZhGeJuz",
        "outputId": "01df574c-7b62-4681-eb4c-df0ca52e8f5a"
      },
      "execution_count": null,
      "outputs": [
        {
          "output_type": "stream",
          "name": "stdout",
          "text": [
            "2\n"
          ]
        }
      ]
    },
    {
      "cell_type": "markdown",
      "source": [
        "### Part 8\n",
        "What will the following code do and why? Don't run it until you have tried to answer.\n",
        "```\n",
        "print(greeting)\n",
        "\n",
        "greeting = 'Hello world!'\n",
        "```"
      ],
      "metadata": {
        "id": "TPPuYDsJg-uO"
      }
    },
    {
      "cell_type": "markdown",
      "source": [
        "It will raise an error because the flow control is wrong. You need to switch the order of the lines."
      ],
      "metadata": {
        "id": "hmp-dxiGhF-Z"
      }
    },
    {
      "cell_type": "code",
      "source": [
        "print(greeting)\n",
        "\n",
        "greeting = 'Hello world!'"
      ],
      "metadata": {
        "colab": {
          "base_uri": "https://localhost:8080/",
          "height": 176
        },
        "id": "yEZ4HUgFg85m",
        "outputId": "e0921a5a-3270-4ed4-aaa4-6998a3e1c990"
      },
      "execution_count": null,
      "outputs": [
        {
          "output_type": "error",
          "ename": "NameError",
          "evalue": "name 'greeting' is not defined",
          "traceback": [
            "\u001b[0;31m---------------------------------------------------------------------------\u001b[0m",
            "\u001b[0;31mNameError\u001b[0m                                 Traceback (most recent call last)",
            "\u001b[0;32m<ipython-input-7-25dd3bb5cb7a>\u001b[0m in \u001b[0;36m<cell line: 1>\u001b[0;34m()\u001b[0m\n\u001b[0;32m----> 1\u001b[0;31m \u001b[0mprint\u001b[0m\u001b[0;34m(\u001b[0m\u001b[0mgreeting\u001b[0m\u001b[0;34m)\u001b[0m\u001b[0;34m\u001b[0m\u001b[0;34m\u001b[0m\u001b[0m\n\u001b[0m\u001b[1;32m      2\u001b[0m \u001b[0;34m\u001b[0m\u001b[0m\n\u001b[1;32m      3\u001b[0m \u001b[0mgreeting\u001b[0m \u001b[0;34m=\u001b[0m \u001b[0;34m'Hello world!'\u001b[0m\u001b[0;34m\u001b[0m\u001b[0;34m\u001b[0m\u001b[0m\n",
            "\u001b[0;31mNameError\u001b[0m: name 'greeting' is not defined"
          ]
        }
      ]
    },
    {
      "cell_type": "markdown",
      "source": [
        "### Part 9\n",
        "What will the following code do and why? Don't run it until you have tried to answer.\n",
        "```\n",
        "a = 7\n",
        "\n",
        "def my_function(b):\n",
        "    b += 10\n",
        "\n",
        "my_function(a)\n",
        "print(a)\n",
        "```"
      ],
      "metadata": {
        "id": "YnxnzVIzhRPw"
      }
    },
    {
      "cell_type": "markdown",
      "source": [
        "In Python, integers are immutable, which means their values cannot be changed. When the my_function function is called with a as an argument, the local variable b within the function scope is set to reference the same value as a, which is 7. During the execution of the += operation inside the my_function function, b += 10 effectively becomes b = b + 10. This operation creates a new integer object 17 and updates b to reference this new object. However, the original variable a remains unaffected and retains its value of 7.\n",
        "\n"
      ],
      "metadata": {
        "id": "tt2Qlpt4hxDq"
      }
    },
    {
      "cell_type": "code",
      "source": [
        "a = 7\n",
        "\n",
        "def my_function(b):\n",
        "    b += 10\n",
        "\n",
        "my_function(a)\n",
        "print(a)"
      ],
      "metadata": {
        "colab": {
          "base_uri": "https://localhost:8080/"
        },
        "id": "3-AEOS60hQYH",
        "outputId": "efb889e4-b857-45e2-b728-b2fc9fddba22"
      },
      "execution_count": null,
      "outputs": [
        {
          "output_type": "stream",
          "name": "stdout",
          "text": [
            "7\n"
          ]
        }
      ]
    },
    {
      "cell_type": "markdown",
      "source": [
        "### Part 10\n",
        "What will the following code do and why? Don't run it until you have tried to answer.\n",
        "```\n",
        "b = [1, 2, 3]\n",
        "\n",
        "def my_function():\n",
        "    b[0] = 10\n",
        "\n",
        "my_function()\n",
        "print(b)\n",
        "```"
      ],
      "metadata": {
        "id": "YKPGMSVVh2mA"
      }
    },
    {
      "cell_type": "markdown",
      "source": [
        "This example shows how lists, being mutable objects, can be modified within a function, affecting the original list in the global scope.\n",
        "\n",
        "The list b is initialized on line 1 outside the function my_function. Inside the function, on line 4, the first element of b is changed to 10. Since b is not a local variable within my_function() but we are directly referencing b from the global scope, the change b[0] = 10 impacts the global variable b. Consequently, after the execution of my_function(), the global list b reflects this modification, and printing b will display [10, 2, 3].\n",
        "\n",
        "\n",
        "This all comes down to lists being mutable.\n"
      ],
      "metadata": {
        "id": "cTV7ixyQiD6U"
      }
    },
    {
      "cell_type": "code",
      "source": [
        "b = [1, 2, 3]\n",
        "\n",
        "def my_function():\n",
        "    b[0] = 10\n",
        "\n",
        "my_function()\n",
        "print(b)"
      ],
      "metadata": {
        "colab": {
          "base_uri": "https://localhost:8080/"
        },
        "id": "VPOFgJ6rhzYh",
        "outputId": "c580611b-6af9-44d0-a5b7-12aa5001458e"
      },
      "execution_count": null,
      "outputs": [
        {
          "output_type": "stream",
          "name": "stdout",
          "text": [
            "[10, 2, 3]\n"
          ]
        }
      ]
    },
    {
      "cell_type": "markdown",
      "source": [
        "## VII. Strings\n"
      ],
      "metadata": {
        "id": "wJSMvR4JnpMa"
      }
    },
    {
      "cell_type": "markdown",
      "source": [
        "### 1. Length\n",
        "Determine the length of the string \"These aren't the droids you're looking for.\".\n",
        "\n"
      ],
      "metadata": {
        "id": "ghSzZbgAnzDy"
      }
    },
    {
      "cell_type": "code",
      "source": [
        "print(len(\"These aren't the droids you're looking for.\"))"
      ],
      "metadata": {
        "colab": {
          "base_uri": "https://localhost:8080/"
        },
        "id": "MUOFcm7bi049",
        "outputId": "42f5f3cf-75fa-4d4f-9cb5-ef55a350b2f1"
      },
      "execution_count": null,
      "outputs": [
        {
          "output_type": "stream",
          "name": "stdout",
          "text": [
            "43\n"
          ]
        }
      ]
    },
    {
      "cell_type": "markdown",
      "source": [
        "### 2. ALL CAPS\n",
        "Convert the string 'confetti floating everywhere' to all upper case."
      ],
      "metadata": {
        "id": "cIDc9JACoB1q"
      }
    },
    {
      "cell_type": "code",
      "source": [
        "my_string = 'confetti floating everywhere'\n",
        "caps_string = my_string.upper()\n",
        "print(caps_string)"
      ],
      "metadata": {
        "colab": {
          "base_uri": "https://localhost:8080/"
        },
        "id": "1Y2k5DBkn6UN",
        "outputId": "136b5e79-e4d0-4631-b5fd-cbb2bf2db359"
      },
      "execution_count": null,
      "outputs": [
        {
          "output_type": "stream",
          "name": "stdout",
          "text": [
            "CONFETTI FLOATING EVERYWHERE\n"
          ]
        }
      ]
    },
    {
      "cell_type": "code",
      "source": [
        "print('confetti floating everywhere'.upper())"
      ],
      "metadata": {
        "colab": {
          "base_uri": "https://localhost:8080/"
        },
        "id": "70_r3v7aoTxI",
        "outputId": "528280d9-aa75-47de-c50e-a116874c387c"
      },
      "execution_count": null,
      "outputs": [
        {
          "output_type": "stream",
          "name": "stdout",
          "text": [
            "CONFETTI FLOATING EVERYWHERE\n"
          ]
        }
      ]
    },
    {
      "cell_type": "markdown",
      "source": [
        "### 3. Ignoring Case\n",
        "Using the following code, compare the value of name with the string 'RoGeR' while ignoring the case of both strings. Print true if the values are the same; print false if they aren't. Next, perform a case-insensitive comparison between the value of name and the string 'DAVE'.\n",
        "```\n",
        "name = Roger\n",
        "```"
      ],
      "metadata": {
        "id": "8buo03i9p11J"
      }
    },
    {
      "cell_type": "code",
      "source": [
        "name = 'Roger'\n",
        "\n",
        "print(name.casefold() == 'RoGeR'.casefold())      # True\n",
        "print(name.casefold() == 'DAVE'.casefold())       # False"
      ],
      "metadata": {
        "colab": {
          "base_uri": "https://localhost:8080/"
        },
        "id": "pSBf81ZsptEL",
        "outputId": "4cb0d53b-e2a1-488f-ac60-466881bdc4c2"
      },
      "execution_count": null,
      "outputs": [
        {
          "output_type": "stream",
          "name": "stdout",
          "text": [
            "True\n",
            "False\n"
          ]
        }
      ]
    },
    {
      "cell_type": "code",
      "source": [
        "string1 = \"SS\".lower()\n",
        "string2 = \"ß\".lower()\n",
        "print(string1 == string2)                         # False\n",
        "\n",
        "string1_casefolded = \"SS\".casefold()\n",
        "string2_casefolded = \"ß\".casefold()\n",
        "print(string1_casefolded == string2_casefolded)   # True"
      ],
      "metadata": {
        "colab": {
          "base_uri": "https://localhost:8080/"
        },
        "id": "WFKfJLhrqHhZ",
        "outputId": "02626710-78d9-4eab-8921-bd3a5a26080d"
      },
      "execution_count": null,
      "outputs": [
        {
          "output_type": "stream",
          "name": "stdout",
          "text": [
            "False\n",
            "True\n"
          ]
        }
      ]
    },
    {
      "cell_type": "markdown",
      "source": [
        "### 4. Multiline String\n",
        "How can you assign the following rhyme to a single variable while preserving the line break?\n",
        "```\n",
        "A pirate I was meant to be!\n",
        "Trim the sails and roam the sea!\n",
        "```"
      ],
      "metadata": {
        "id": "F5pEUZ4LxVP3"
      }
    },
    {
      "cell_type": "code",
      "source": [
        "my_shanty = \"A pirate I was meant to be!\\nTrim the sails and roam the sea!\"\n",
        "print(my_shanty)"
      ],
      "metadata": {
        "colab": {
          "base_uri": "https://localhost:8080/"
        },
        "id": "nVfw6eghxf_q",
        "outputId": "c6bb17b5-a9f1-4df1-bfee-4d16953ac97d"
      },
      "execution_count": null,
      "outputs": [
        {
          "output_type": "stream",
          "name": "stdout",
          "text": [
            "A pirate I was meant to be!\n",
            "Trim the sails and roam the sea!\n"
          ]
        }
      ]
    },
    {
      "cell_type": "code",
      "source": [
        "rhyme = '''A pirate I was meant to be!\n",
        "Trim the sails and roam the sea!'''\n",
        "\n",
        "print(rhyme)"
      ],
      "metadata": {
        "colab": {
          "base_uri": "https://localhost:8080/"
        },
        "id": "R4gjXlVrsH8O",
        "outputId": "63fcd221-a32a-43c1-9bf2-919e8ec1b876"
      },
      "execution_count": null,
      "outputs": [
        {
          "output_type": "stream",
          "name": "stdout",
          "text": [
            "A pirate I was meant to be!\n",
            "Trim the sails and roam the sea!\n"
          ]
        }
      ]
    },
    {
      "cell_type": "markdown",
      "source": [
        "### 5. Contains Character\n",
        "Write code that checks whether the string char_sequence contains the character x.\n",
        "```\n",
        "char_sequence = 'TXkgaG92ZXJjcmFmdCBpcyBmdWxsIG9mIGVlbHMu'\n",
        "```"
      ],
      "metadata": {
        "id": "S3kAN16ux4b1"
      }
    },
    {
      "cell_type": "code",
      "source": [
        "char_sequence = 'TXkgaG92ZXJjcmFmdCBpcyBmdWxsIG9mIGVlbHMu'\n",
        "print('x' in char_sequence)"
      ],
      "metadata": {
        "colab": {
          "base_uri": "https://localhost:8080/"
        },
        "id": "1Si6yca7x2jn",
        "outputId": "10ec77cf-3c8c-44d1-df44-f6e7178a6eed"
      },
      "execution_count": null,
      "outputs": [
        {
          "output_type": "stream",
          "name": "stdout",
          "text": [
            "True\n"
          ]
        }
      ]
    },
    {
      "cell_type": "markdown",
      "source": [
        "### 6. Is Empty?\n",
        "Write a function that checks whether a string is empty or not. For example:\n",
        "```\n",
        "print(is_empty('mars'))  # False\n",
        "print(is_empty('  '))    # False\n",
        "print(is_empty(''))      # True\n",
        "```"
      ],
      "metadata": {
        "id": "thC--MwPyW87"
      }
    },
    {
      "cell_type": "code",
      "source": [
        "def is_empty(string):\n",
        "    if len(string) == False:\n",
        "        return True\n",
        "    else:\n",
        "        return False\n",
        "\n",
        "print(is_empty('mars'))  # False\n",
        "print(is_empty('  '))    # False\n",
        "print(is_empty(''))      # True"
      ],
      "metadata": {
        "colab": {
          "base_uri": "https://localhost:8080/"
        },
        "id": "CrXuNxkTyKu2",
        "outputId": "0417cb15-54b3-4684-ab2d-22222c08f0a9"
      },
      "execution_count": null,
      "outputs": [
        {
          "output_type": "stream",
          "name": "stdout",
          "text": [
            "False\n",
            "False\n",
            "True\n"
          ]
        }
      ]
    },
    {
      "cell_type": "code",
      "source": [
        "def is_empty(string):\n",
        "    return string == ''\n",
        "\n",
        "print(is_empty('mars'))  # False\n",
        "print(is_empty('  '))    # False\n",
        "print(is_empty(''))      # True"
      ],
      "metadata": {
        "colab": {
          "base_uri": "https://localhost:8080/"
        },
        "id": "n6X4c2HdzGRy",
        "outputId": "969b6dc2-0ac8-4f2d-e991-dd348057cad0"
      },
      "execution_count": null,
      "outputs": [
        {
          "output_type": "stream",
          "name": "stdout",
          "text": [
            "False\n",
            "False\n",
            "True\n"
          ]
        }
      ]
    },
    {
      "cell_type": "code",
      "source": [
        "def is_empty(s):\n",
        "    return len(s) == 0\n",
        "\n",
        "print(is_empty('mars'))  # False\n",
        "print(is_empty('  '))    # False\n",
        "print(is_empty(''))      # True"
      ],
      "metadata": {
        "colab": {
          "base_uri": "https://localhost:8080/"
        },
        "id": "dRX94nQh0Hbt",
        "outputId": "fd869b05-bbb9-4417-9b36-c476dd7fd94a"
      },
      "execution_count": null,
      "outputs": [
        {
          "output_type": "stream",
          "name": "stdout",
          "text": [
            "False\n",
            "False\n",
            "True\n"
          ]
        }
      ]
    },
    {
      "cell_type": "markdown",
      "source": [
        "A string is empty if it does not contain any characters. The easiest way is to simply check for an empty string, and nearly as easily, you can check the length of the string.\n",
        "\n",
        "A more Pythonic approach would be to leverage the fact that an empty string is falsy. By returning the negation of the string using the not keyword, we can obtain a solution that looks like this:"
      ],
      "metadata": {
        "id": "Egg6x8ce0uLy"
      }
    },
    {
      "cell_type": "code",
      "source": [
        "def is_empty(s):\n",
        "    return not s\n",
        "\n",
        "print(is_empty('mars'))  # False\n",
        "print(is_empty('  '))    # False\n",
        "print(is_empty(''))      # True"
      ],
      "metadata": {
        "colab": {
          "base_uri": "https://localhost:8080/"
        },
        "id": "91Z_3ZZP0ZGl",
        "outputId": "cd03ab26-2ee2-4cee-a44b-81012a4d1c8f"
      },
      "execution_count": null,
      "outputs": [
        {
          "output_type": "stream",
          "name": "stdout",
          "text": [
            "False\n",
            "False\n",
            "True\n"
          ]
        }
      ]
    },
    {
      "cell_type": "markdown",
      "source": [
        "### 7. Is Empty or Blank?\n",
        "Write an is_empty_or_blank function to determine whether a string is either empty or consists entirely of spaces. For example:\n",
        "```\n",
        "print(is_empty_or_blank('mars'))  # False\n",
        "print(is_empty_or_blank('  '))    # True\n",
        "print(is_empty_or_blank(''))      # True\n",
        "```"
      ],
      "metadata": {
        "id": "JBU8sh930yeD"
      }
    },
    {
      "cell_type": "code",
      "source": [
        "def is_empty_or_blank(s):\n",
        "    if s.isspace() or len(s) == 0:\n",
        "        return True\n",
        "    else:\n",
        "        return False\n",
        "\n",
        "print(is_empty_or_blank('mars'))  # False\n",
        "print(is_empty_or_blank('  '))    # True\n",
        "print(is_empty_or_blank(''))      # True"
      ],
      "metadata": {
        "colab": {
          "base_uri": "https://localhost:8080/"
        },
        "id": "Qxgqko-Z0lHk",
        "outputId": "ca517bb0-2fed-4cd9-897c-1f6ffaa87c1c"
      },
      "execution_count": null,
      "outputs": [
        {
          "output_type": "stream",
          "name": "stdout",
          "text": [
            "False\n",
            "True\n",
            "True\n"
          ]
        }
      ]
    },
    {
      "cell_type": "code",
      "source": [
        "spaces = ' '\n",
        "empty= ''\n",
        "\n",
        "print('A string with spaces is Falsy') if spaces == 0 else print('A string with spaces is Truthy')\n",
        "print('An empty string is Falsy') if empty == 0 else print('An empty string is Truthy')"
      ],
      "metadata": {
        "colab": {
          "base_uri": "https://localhost:8080/"
        },
        "id": "5emv0g-e6k2p",
        "outputId": "f9ca10f8-ff56-43cd-ebf3-62f81c86dace"
      },
      "execution_count": null,
      "outputs": [
        {
          "output_type": "stream",
          "name": "stdout",
          "text": [
            "A string with spaces is Truthy\n",
            "An empty string is Truthy\n"
          ]
        }
      ]
    },
    {
      "cell_type": "code",
      "source": [
        "def is_empty_or_blank(s):\n",
        "    return len(s.strip(' ')) == 0\n",
        "\n",
        "print(is_empty_or_blank('mars'))  # False\n",
        "print(is_empty_or_blank('  '))    # True\n",
        "print(is_empty_or_blank(''))      # True"
      ],
      "metadata": {
        "colab": {
          "base_uri": "https://localhost:8080/"
        },
        "id": "6mtg0Iu27psU",
        "outputId": "9a7d2a30-b00b-4433-e679-5e5679d0b1e8"
      },
      "execution_count": null,
      "outputs": [
        {
          "output_type": "stream",
          "name": "stdout",
          "text": [
            "False\n",
            "True\n",
            "True\n"
          ]
        }
      ]
    },
    {
      "cell_type": "code",
      "source": [
        "def is_empty_or_blank(s):\n",
        "    return len(s.strip(' ')) == 0\n",
        "\n",
        "print(is_empty_or_blank('mars'))  # False\n",
        "print(is_empty_or_blank('  '))    # True\n",
        "print(is_empty_or_blank(''))      # True"
      ],
      "metadata": {
        "colab": {
          "base_uri": "https://localhost:8080/"
        },
        "id": "V1i6YuIE8zvH",
        "outputId": "8ba826ac-f721-4311-970f-e0f442a2a2bb"
      },
      "execution_count": null,
      "outputs": [
        {
          "output_type": "stream",
          "name": "stdout",
          "text": [
            "False\n",
            "True\n",
            "True\n"
          ]
        }
      ]
    },
    {
      "cell_type": "code",
      "source": [
        "def is_empty_or_blank(s):\n",
        "    return not s.strip(' ')\n",
        "\n",
        "print(is_empty_or_blank('mars'))  # False\n",
        "print(is_empty_or_blank('  '))    # True\n",
        "print(is_empty_or_blank(''))      # True"
      ],
      "metadata": {
        "colab": {
          "base_uri": "https://localhost:8080/"
        },
        "id": "Fqby_vwY89tm",
        "outputId": "7f76878b-2116-49d7-979c-c6fd2573a820"
      },
      "execution_count": null,
      "outputs": [
        {
          "output_type": "stream",
          "name": "stdout",
          "text": [
            "False\n",
            "True\n",
            "True\n"
          ]
        }
      ]
    },
    {
      "cell_type": "markdown",
      "source": [
        "### 8. Capitalize Words\n",
        "Write code that capitalizes the words in the string 'launch school tech & talk', so that you get the string 'Launch School Tech & Talk'."
      ],
      "metadata": {
        "id": "FVe60HZX-zQX"
      }
    },
    {
      "cell_type": "code",
      "source": [
        "# My Solution\n",
        "print('launch school tech & talk'.title())"
      ],
      "metadata": {
        "colab": {
          "base_uri": "https://localhost:8080/"
        },
        "id": "I0YZKZVB9BJA",
        "outputId": "a8705e45-1c9d-49ea-f9b3-67e24e1f75f9"
      },
      "execution_count": null,
      "outputs": [
        {
          "output_type": "stream",
          "name": "stdout",
          "text": [
            "Launch School Tech & Talk\n"
          ]
        }
      ]
    },
    {
      "cell_type": "code",
      "source": [
        "# My Solutiion as a Function (Launch School Solution 2)\n",
        "def capitalize_words(string):\n",
        "    return string.title()\n",
        "\n",
        "string = 'launch school tech & talk'\n",
        "result = capitalize_words(string)\n",
        "print(result)  # Launch School Tech & Talk"
      ],
      "metadata": {
        "colab": {
          "base_uri": "https://localhost:8080/"
        },
        "id": "Kb-nobwa-_Fg",
        "outputId": "7af70e57-887a-4905-976a-e33e8c820e8a"
      },
      "execution_count": null,
      "outputs": [
        {
          "output_type": "stream",
          "name": "stdout",
          "text": [
            "Launch School Tech & Talk\n"
          ]
        }
      ]
    },
    {
      "cell_type": "code",
      "source": [
        "# Launch School Solution 1\n",
        "def capitalize_words(string):\n",
        "    words = string.split(' ')\n",
        "    capitalized_words = []\n",
        "\n",
        "    for word in words:\n",
        "        capitalized_words.append(word.capitalize())\n",
        "\n",
        "    return ' '.join(capitalized_words)\n",
        "\n",
        "string = 'launch school tech & talk'\n",
        "result = capitalize_words(string)\n",
        "print(result)  # Launch School Tech & Talk"
      ],
      "metadata": {
        "colab": {
          "base_uri": "https://localhost:8080/"
        },
        "id": "0lCrBIGS_QrH",
        "outputId": "2d1cd4d1-94a6-4de6-ffb1-dafadf8b01dd"
      },
      "execution_count": null,
      "outputs": [
        {
          "output_type": "stream",
          "name": "stdout",
          "text": [
            "Launch School Tech & Talk\n"
          ]
        }
      ]
    },
    {
      "cell_type": "markdown",
      "source": [
        "### 9. Check Prefix\n",
        "Write a function that checks whether a string starts with a specific prefix.\n",
        "```\n",
        "print(starts_with(\"launch\", \"la\"))   # True\n",
        "print(starts_with(\"school\", \"sah\"))  # False\n",
        "print(starts_with(\"school\", \"sch\"))  # True\n",
        "```"
      ],
      "metadata": {
        "id": "Fha6-ppEA73D"
      }
    },
    {
      "cell_type": "code",
      "source": [
        "def starts_with(s, prefix):\n",
        "    return s.startswith(prefix)\n",
        "\n",
        "print(starts_with(\"launch\", \"la\"))   # True\n",
        "print(starts_with(\"school\", \"sah\"))  # False\n",
        "print(starts_with(\"school\", \"sch\"))  # True"
      ],
      "metadata": {
        "colab": {
          "base_uri": "https://localhost:8080/"
        },
        "id": "WuHsx4fn_SbC",
        "outputId": "895e3935-d8ea-45a5-f4f9-447d7a9212b9"
      },
      "execution_count": null,
      "outputs": [
        {
          "output_type": "stream",
          "name": "stdout",
          "text": [
            "True\n",
            "False\n",
            "True\n"
          ]
        }
      ]
    },
    {
      "cell_type": "markdown",
      "source": [
        "### 10. Count Substrings\n",
        "Write a function that counts the number of occurrences of a substring in a string.\n",
        "```python\n",
        "print(count_substrings(\"lemon lemon lemon\", \"lemon\")) # 3\n",
        "print(count_substrings(\"laLAlaLA\", \"la\")) # 2\n",
        "print(count_substrings(\"launch\", \"uno\")) # 0\n",
        "```"
      ],
      "metadata": {
        "id": "i_XY6pBWB0l6"
      }
    },
    {
      "cell_type": "code",
      "source": [
        "# My Solution\n",
        "def count_substrings(string, substring):\n",
        "    matches = 0\n",
        "    if string.find(substring) == -1:\n",
        "        return 0\n",
        "    while string.find(substring) != -1:\n",
        "        matches += 1\n",
        "        string = string[string.find(substring) + 1:len(string)]\n",
        "    return matches\n",
        "\n",
        "print(count_substrings(\"lemon lemon lemon\", \"lemon\")) # 3\n",
        "print(count_substrings(\"laLAlaLA\", \"la\"))             # 2\n",
        "print(count_substrings(\"launch\", \"uno\"))              # 0"
      ],
      "metadata": {
        "colab": {
          "base_uri": "https://localhost:8080/"
        },
        "id": "u3iKYT6xBsHT",
        "outputId": "c6c957f4-4b2a-4394-9c87-0b2958f23f8d"
      },
      "execution_count": null,
      "outputs": [
        {
          "output_type": "stream",
          "name": "stdout",
          "text": [
            "3\n",
            "2\n",
            "0\n"
          ]
        }
      ]
    },
    {
      "cell_type": "code",
      "source": [
        "#Launch School Solution\n",
        "def count_substrings(string, substring):\n",
        "    return string.count(substring)\n",
        "\n",
        "print(count_substrings(\"lemon lemon lemon\", \"lemon\")) # 3\n",
        "print(count_substrings(\"laLAlaLA\", \"la\")) # 2\n",
        "print(count_substrings(\"launch\", \"uno\")) # 0"
      ],
      "metadata": {
        "colab": {
          "base_uri": "https://localhost:8080/"
        },
        "id": "vbKh0BcfF2la",
        "outputId": "0214dfa8-1aa2-4359-cbf4-1fb3dbbe85b6"
      },
      "execution_count": null,
      "outputs": [
        {
          "output_type": "stream",
          "name": "stdout",
          "text": [
            "3\n",
            "2\n",
            "0\n"
          ]
        }
      ]
    },
    {
      "cell_type": "markdown",
      "source": [
        "## VIII. Lists"
      ],
      "metadata": {
        "id": "-QU-ErDHuk7E"
      }
    },
    {
      "cell_type": "markdown",
      "source": [
        "### 1. First Element\n",
        "Write a function that returns the first element of a list provided as an argument. For example:\n",
        "```python\n",
        "print(first(['Earth', 'Moon', 'Mars']))  # Earth\n",
        "```\n",
        "Be sure to handle the case where the input list is empty.\n",
        "\n"
      ],
      "metadata": {
        "id": "gORJk6YQuqD0"
      }
    },
    {
      "cell_type": "code",
      "source": [
        "def first(list):\n",
        "    if len(list) == 0:\n",
        "        return None\n",
        "    else:\n",
        "        return list[0]\n",
        "\n",
        "print(first(['Earth', 'Moon', 'Mars']))  # Earth\n",
        "print(first([]))"
      ],
      "metadata": {
        "id": "7Ijy559XGerw",
        "colab": {
          "base_uri": "https://localhost:8080/"
        },
        "outputId": "6a45b22e-eccf-4a6d-f376-c741ec36a17b"
      },
      "execution_count": null,
      "outputs": [
        {
          "output_type": "stream",
          "name": "stdout",
          "text": [
            "Earth\n",
            "None\n"
          ]
        }
      ]
    },
    {
      "cell_type": "code",
      "source": [
        "# A more pythonic solution takes advatage\n",
        "# of the fact that empty iterables are falsy\n",
        "\n",
        "def first(lst):\n",
        "    if lst:\n",
        "        return lst[0]\n",
        "    else:\n",
        "       return None\n",
        "\n",
        "print(first(['Earth', 'Moon', 'Mars']))  # Earth\n",
        "print(first([]))                         # None"
      ],
      "metadata": {
        "colab": {
          "base_uri": "https://localhost:8080/"
        },
        "id": "5g0SLksDvHkQ",
        "outputId": "f0e9202c-5ef2-4cca-feb9-bb7319298b06"
      },
      "execution_count": null,
      "outputs": [
        {
          "output_type": "stream",
          "name": "stdout",
          "text": [
            "Earth\n",
            "None\n"
          ]
        }
      ]
    },
    {
      "cell_type": "markdown",
      "source": [
        "### 2. Last Element\n",
        "Write a function that returns the last element of a list provided as an argument. For example:\n",
        "```python\n",
        "print(last(['Earth', 'Moon', 'Mars']))  # Mars\n",
        "```\n",
        "Be sure to handle the case where the input list is empty.\n",
        "\n"
      ],
      "metadata": {
        "id": "khLIRHQyvpXf"
      }
    },
    {
      "cell_type": "code",
      "source": [
        "def last(list):\n",
        "    if list:\n",
        "        return list[-1]\n",
        "    else:\n",
        "        return None\n",
        "\n",
        "print(last(['Earth', 'Moon', 'Mars']))  # Mars\n",
        "print(last([]))                         # None"
      ],
      "metadata": {
        "colab": {
          "base_uri": "https://localhost:8080/"
        },
        "id": "u1McdBDZvh_0",
        "outputId": "742d4198-7bff-4266-ff72-00be43f36490"
      },
      "execution_count": null,
      "outputs": [
        {
          "output_type": "stream",
          "name": "stdout",
          "text": [
            "Mars\n",
            "None\n"
          ]
        }
      ]
    },
    {
      "cell_type": "markdown",
      "source": [
        "### 3. Add + Delete\n",
        "We are given the following list of energy sources.\n",
        "```python\n",
        "energy = ['fossil', 'solar', 'wind', 'tidal', 'fusion']\n",
        "```\n",
        "Write some code to remove 'fossil' from the list, then add 'geothermal' to the end of the list.\n"
      ],
      "metadata": {
        "id": "GdjxxyA9wC6s"
      }
    },
    {
      "cell_type": "code",
      "source": [
        "energy = ['fossil', 'solar', 'wind', 'tidal', 'fusion']\n",
        "energy = energy[1:len(energy)]\n",
        "energy.append('geothermal')\n",
        "print(energy)"
      ],
      "metadata": {
        "colab": {
          "base_uri": "https://localhost:8080/"
        },
        "id": "2hho8hvov_VW",
        "outputId": "614ca785-4bc2-4242-b26a-4b8c88aa4207"
      },
      "execution_count": null,
      "outputs": [
        {
          "output_type": "stream",
          "name": "stdout",
          "text": [
            "['solar', 'wind', 'tidal', 'fusion', 'geothermal']\n"
          ]
        }
      ]
    },
    {
      "cell_type": "code",
      "source": [
        "# Launch School Solution\n",
        "energy = ['fossil', 'solar', 'wind', 'tidal', 'fusion']\n",
        "energy.remove('fossil')\n",
        "energy.append('geothermal')\n",
        "print(energy)               # ['solar', 'wind', 'tidal', 'fusion', 'geothermal']"
      ],
      "metadata": {
        "colab": {
          "base_uri": "https://localhost:8080/"
        },
        "id": "XaukC-Ihwanw",
        "outputId": "ef3341a6-1578-497c-e334-e20be6b64112"
      },
      "execution_count": null,
      "outputs": [
        {
          "output_type": "stream",
          "name": "stdout",
          "text": [
            "['solar', 'wind', 'tidal', 'fusion', 'geothermal']\n"
          ]
        }
      ]
    },
    {
      "cell_type": "markdown",
      "source": [
        "### 4. Alphabet\n",
        "Split the string alphabet into a list of characters.\n",
        "```python\n",
        "alphabet = 'abcdefghijklmnopqrstuvwxyz'\n",
        "```"
      ],
      "metadata": {
        "id": "fJE40etNwsdS"
      }
    },
    {
      "cell_type": "code",
      "source": [
        "alphabet = 'abcdefghijklmnopqrstuvwxyz'\n",
        "print(list(alphabet))"
      ],
      "metadata": {
        "colab": {
          "base_uri": "https://localhost:8080/"
        },
        "id": "T3Ni2HmYwn-O",
        "outputId": "754f99b8-a4a2-4f55-a798-d2e1a19a00df"
      },
      "execution_count": null,
      "outputs": [
        {
          "output_type": "stream",
          "name": "stdout",
          "text": [
            "['a', 'b', 'c', 'd', 'e', 'f', 'g', 'h', 'i', 'j', 'k', 'l', 'm', 'n', 'o', 'p', 'q', 'r', 's', 't', 'u', 'v', 'w', 'x', 'y', 'z']\n"
          ]
        }
      ]
    },
    {
      "cell_type": "markdown",
      "source": [
        "### 5. Filter\n",
        "Count the number of elements in scores that are 100 or above.\n",
        "```python\n",
        "scores = [96, 47, 113, 89, 100, 102]\n",
        "```"
      ],
      "metadata": {
        "id": "ZO2zyviexXN3"
      }
    },
    {
      "cell_type": "code",
      "source": [
        "scores = [96, 47, 113, 89, 100, 102]\n",
        "counter = 0\n",
        "for score in scores:\n",
        "    if score >= 100:\n",
        "        counter += 1\n",
        "print(counter)\n",
        "\n",
        "# Launch School solution #\n",
        "# Creates new list only containing scores above 100,\n",
        "# then prints lenght of new list\n",
        "high_scores = [score for score in scores if score >= 100]\n",
        "print(len(high_scores))"
      ],
      "metadata": {
        "colab": {
          "base_uri": "https://localhost:8080/"
        },
        "id": "ZKJsRLOOw6_T",
        "outputId": "7252e8db-b184-4c45-f6cb-baef490b6d1a"
      },
      "execution_count": null,
      "outputs": [
        {
          "output_type": "stream",
          "name": "stdout",
          "text": [
            "3\n"
          ]
        }
      ]
    },
    {
      "cell_type": "markdown",
      "source": [
        "### 6. Vocabulary\n",
        "You've been given a list of vocabulary words grouped into sub-lists, by meaning. This is a two-dimensional list or a nested list. Write some code that iterates through and prints all the words, one per line.\n",
        "```python\n",
        "vocabulary = [\n",
        "    ['happy', 'cheerful', 'merry', 'glad'],\n",
        "    ['tired', 'sleepy', 'fatigued', 'drained'],\n",
        "    ['excited', 'eager', 'enthused', 'animated'],\n",
        "]\n",
        "\n",
        "# happy\n",
        "# cheerful\n",
        "# merry\n",
        "# glad\n",
        "# tired\n",
        "# sleepy\n",
        "# etc...\n",
        "```"
      ],
      "metadata": {
        "id": "5V-I7x-HyRah"
      }
    },
    {
      "cell_type": "code",
      "source": [
        "vocabulary = [\n",
        "    ['happy', 'cheerful', 'merry', 'glad'],\n",
        "    ['tired', 'sleepy', 'fatigued', 'drained'],\n",
        "    ['excited', 'eager', 'enthused', 'animated'],\n",
        "]\n",
        "\n",
        "for list in vocabulary:\n",
        "    for item in list:\n",
        "        print(item)"
      ],
      "metadata": {
        "colab": {
          "base_uri": "https://localhost:8080/"
        },
        "id": "WlmXkms2xpat",
        "outputId": "09d79b93-ac8f-47a5-b538-2d0ed1a5c9e7"
      },
      "execution_count": null,
      "outputs": [
        {
          "output_type": "stream",
          "name": "stdout",
          "text": [
            "happy\n",
            "cheerful\n",
            "merry\n",
            "glad\n",
            "tired\n",
            "sleepy\n",
            "fatigued\n",
            "drained\n",
            "excited\n",
            "eager\n",
            "enthused\n",
            "animated\n"
          ]
        }
      ]
    },
    {
      "cell_type": "markdown",
      "source": [
        "### 7. Equality\n",
        "Predict the output of the code shown below. When you run the code, do you see what you expected? Why or why not?\n",
        "```python\n",
        "list1 = [2, 6, 4]\n",
        "list2 = [2, 6, 4]\n",
        "\n",
        "print(list1 == list2)\n",
        "```\n"
      ],
      "metadata": {
        "id": "crZkjUBqyw7X"
      }
    },
    {
      "cell_type": "markdown",
      "source": [
        "I predict the output will be True, since both lists have the same value, however both lists do not refer to the same address. In other words, list1 is equal to list2, but list 1 is not list2."
      ],
      "metadata": {
        "id": "-8KM381Ny7KQ"
      }
    },
    {
      "cell_type": "code",
      "source": [
        "list1 = [2, 6, 4]\n",
        "list2 = [2, 6, 4]\n",
        "\n",
        "print(list1 == list2)  # True\n",
        "print(list1 is list2)  # False"
      ],
      "metadata": {
        "colab": {
          "base_uri": "https://localhost:8080/"
        },
        "id": "EOlacYGDyo5O",
        "outputId": "832c1064-6738-497a-d522-b63cbaf80ada"
      },
      "execution_count": null,
      "outputs": [
        {
          "output_type": "stream",
          "name": "stdout",
          "text": [
            "True\n",
            "False\n"
          ]
        }
      ]
    },
    {
      "cell_type": "markdown",
      "source": [
        "### 8. Type\n",
        "How can you check if a variable holds a value that is a list? Given two variables, verify whether the values they hold are lists.\n",
        "```python\n",
        "some_value1 = [0, 1, 0, 0, 1]\n",
        "some_value2 = 'I leave you my Kingdom, take good care of it.'\n",
        "```"
      ],
      "metadata": {
        "id": "EnK9POtwzTzr"
      }
    },
    {
      "cell_type": "code",
      "source": [
        "some_value1 = [0, 1, 0, 0, 1]\n",
        "some_value2 = 'I leave you my Kingdom, take good care of it.'\n",
        "\n",
        "# My Solution\n",
        "print(type(some_value1))\n",
        "print(type(some_value2))\n",
        "\n",
        "#Launch School Solution\n",
        "print(isinstance(some_value1, list))  # True\n",
        "print(isinstance(some_value2, list))  # False"
      ],
      "metadata": {
        "colab": {
          "base_uri": "https://localhost:8080/"
        },
        "id": "rUJUywelzQ4D",
        "outputId": "85656fbd-3a94-4a80-8faf-b8016d273b2f"
      },
      "execution_count": null,
      "outputs": [
        {
          "output_type": "stream",
          "name": "stdout",
          "text": [
            "<class 'list'>\n",
            "<class 'str'>\n",
            "True\n",
            "False\n"
          ]
        }
      ]
    },
    {
      "cell_type": "markdown",
      "source": [
        "### 9. Travel\n",
        "The destinations list contains a list of travel destinations.\n",
        "\n",
        "```python\n",
        "destinations = ['Prague', 'London', 'Sydney', 'Belfast',\n",
        "                'Rome', 'Aruba', 'Paris', 'Bora Bora',\n",
        "                'Barcelona', 'Rio de Janeiro', 'Marrakesh',\n",
        "                'New York City']\n",
        "```\n",
        "Write a function that, without using the built-in in operator, checks whether a specific destination is included within destinations. For example: When checking whether 'Barcelona' is contained in destinations, the expected output is True, whereas the expected output for 'Nashville' is False.\n",
        "\n",
        "```python\n",
        "contains('Barcelona', destinations)  # True\n",
        "contains('Nashville', destinations)  # False\n",
        "```"
      ],
      "metadata": {
        "id": "mHFS5PEh4F9W"
      }
    },
    {
      "cell_type": "code",
      "source": [
        "def contains(target, list):\n",
        "    for item in list:\n",
        "        if target == item:\n",
        "            return True\n",
        "    return False\n",
        "\n",
        "'''\n",
        "Using in operator:\n",
        "\n",
        "def contains(element, lst):\n",
        "    return element in lst\n",
        "'''\n",
        "\n",
        "\n",
        "destinations = ['Prague', 'London', 'Sydney', 'Belfast',\n",
        "                'Rome', 'Aruba', 'Paris', 'Bora Bora',\n",
        "                'Barcelona', 'Rio de Janeiro', 'Marrakesh',\n",
        "                'New York City']\n",
        "\n",
        "print(contains('Barcelona', destinations))  # True\n",
        "print(contains('Nashville', destinations))  # False"
      ],
      "metadata": {
        "colab": {
          "base_uri": "https://localhost:8080/"
        },
        "id": "PI3WLmOt31Ud",
        "outputId": "02f1c579-b843-4543-9aaf-428fac07be8b"
      },
      "execution_count": null,
      "outputs": [
        {
          "output_type": "stream",
          "name": "stdout",
          "text": [
            "True\n",
            "False\n"
          ]
        }
      ]
    },
    {
      "cell_type": "markdown",
      "source": [
        "### 10. Passcode\n",
        "We generated parts of a passcode and now want to combine them into a string. Write some code that returns a string, with each portion of the passcode separated by a hyphen (-).\n",
        "\n",
        "```python\n",
        "passcode = ['11', 'jZ5', 'hQ3f*', '8!7g3', 'p3Fs']\n",
        "\n",
        "# Write some code here.\n",
        "# Expected return value: '11-jZ5-hQ3f*-8!7g3-p3Fs'\n",
        "```"
      ],
      "metadata": {
        "id": "UGcYPf7c_Q0H"
      }
    },
    {
      "cell_type": "code",
      "source": [
        "passcode = ['11', 'jZ5', 'hQ3f*', '8!7g3', 'p3Fs']\n",
        "print('-'.join(passcode))   # '11-jZ5-hQ3f*-8!7g3-p3Fs'"
      ],
      "metadata": {
        "colab": {
          "base_uri": "https://localhost:8080/"
        },
        "id": "LqOFMnmP-jmV",
        "outputId": "7868a201-e016-436a-cb93-e5561f4b3a86"
      },
      "execution_count": null,
      "outputs": [
        {
          "output_type": "stream",
          "name": "stdout",
          "text": [
            "11-jZ5-hQ3f*-8!7g3-p3Fs\n"
          ]
        }
      ]
    },
    {
      "cell_type": "markdown",
      "source": [
        "### 11. Checking items off the grocery list\n",
        "We have a grocery list. As we check off items on that list, we want to remove them from the list.\n",
        "\n",
        "Write code that removes the items from grocery_list, one by one, until it is empty. If you print the elements you remove, the expected behavior would look as follows.\n",
        "\n",
        "```python\n",
        "grocery_list = ['paprika', 'tofu', 'garlic', 'quinoa',\n",
        "                'carrots', 'broccoli', 'hummus']\n",
        "\n",
        "# Your code.\n",
        "\n",
        "print(grocery_list)\n",
        "```\n",
        "```\n",
        "#Expected Outcome\n",
        "paprika\n",
        "tofu\n",
        "garlic\n",
        "quinoa\n",
        "carrots\n",
        "broccoli\n",
        "hummus\n",
        "[]\n",
        "```"
      ],
      "metadata": {
        "id": "L7UuVfsqAMx_"
      }
    },
    {
      "cell_type": "code",
      "source": [
        "grocery_list = ['paprika', 'tofu', 'garlic', 'quinoa',\n",
        "                'carrots', 'broccoli', 'hummus']\n",
        "\n",
        "grocery_list.reverse()  #not necessary, just here to match expected output\n",
        "while grocery_list:\n",
        "    print(grocery_list.pop())\n",
        "\n",
        "print(grocery_list)"
      ],
      "metadata": {
        "colab": {
          "base_uri": "https://localhost:8080/"
        },
        "id": "HlJDk4Ia_n2l",
        "outputId": "24333f7d-8640-484a-f6eb-3152cc9febd6"
      },
      "execution_count": null,
      "outputs": [
        {
          "output_type": "stream",
          "name": "stdout",
          "text": [
            "paprika\n",
            "tofu\n",
            "garlic\n",
            "quinoa\n",
            "carrots\n",
            "broccoli\n",
            "hummus\n",
            "[]\n"
          ]
        }
      ]
    },
    {
      "cell_type": "code",
      "source": [
        "# Launch School Solution\n",
        "grocery_list = ['paprika', 'tofu', 'garlic', 'quinoa',\n",
        "                'carrots', 'broccoli', 'hummus']\n",
        "\n",
        "while grocery_list:\n",
        "    checked_item = grocery_list.pop(0)  #note the index of 0\n",
        "    print(checked_item)\n",
        "\n",
        "print(grocery_list)"
      ],
      "metadata": {
        "colab": {
          "base_uri": "https://localhost:8080/"
        },
        "id": "JENVTSPfB7n6",
        "outputId": "1f1c64d8-ed5f-497a-ee56-9394605b2141"
      },
      "execution_count": null,
      "outputs": [
        {
          "output_type": "stream",
          "name": "stdout",
          "text": [
            "paprika\n",
            "tofu\n",
            "garlic\n",
            "quinoa\n",
            "carrots\n",
            "broccoli\n",
            "hummus\n",
            "[]\n"
          ]
        }
      ]
    },
    {
      "cell_type": "code",
      "source": [
        "# My adjusted solution after seeing Launch School Solution\n",
        "grocery_list = ['paprika', 'tofu', 'garlic', 'quinoa',\n",
        "                'carrots', 'broccoli', 'hummus']\n",
        "\n",
        "while grocery_list:\n",
        "    print(grocery_list.pop(0))\n",
        "\n",
        "print(grocery_list)"
      ],
      "metadata": {
        "colab": {
          "base_uri": "https://localhost:8080/"
        },
        "id": "jPcp4JalE0Li",
        "outputId": "25a42e54-4d10-408e-fdb5-e36b667e471b"
      },
      "execution_count": null,
      "outputs": [
        {
          "output_type": "stream",
          "name": "stdout",
          "text": [
            "paprika\n",
            "tofu\n",
            "garlic\n",
            "quinoa\n",
            "carrots\n",
            "broccoli\n",
            "hummus\n",
            "[]\n"
          ]
        }
      ]
    },
    {
      "cell_type": "markdown",
      "source": [
        "The lesson here is to avoid mutating your item while iterating."
      ],
      "metadata": {
        "id": "1PWl9xZYF9Ql"
      }
    },
    {
      "cell_type": "markdown",
      "source": [
        "## IX. Dictionaries"
      ],
      "metadata": {
        "id": "IPXyx7xt5K9p"
      }
    },
    {
      "cell_type": "markdown",
      "source": [
        "### 1. First Car\n",
        "Create a dictionary that contains the following data, and assign it to a variable named car.\n",
        "\n",
        "| Type  | Color | Mileage |\n",
        "|-------|-------|---------|\n",
        "| Sedan | Blue  | 80000   |\n"
      ],
      "metadata": {
        "id": "cnXYnupn5QFW"
      }
    },
    {
      "cell_type": "code",
      "source": [
        "car = {\n",
        "    'type'    : 'sedan',\n",
        "    'color'   : 'blue',\n",
        "    'mileage' : 80000,      #for readability, you can also use 80_000\n",
        "}\n",
        "\n",
        "print(car)\n",
        "print(type(car))"
      ],
      "metadata": {
        "id": "eDMu6ChgFFvn",
        "colab": {
          "base_uri": "https://localhost:8080/"
        },
        "outputId": "34e6a357-bd48-4960-8f2e-69c7d9b3c706"
      },
      "execution_count": null,
      "outputs": [
        {
          "output_type": "stream",
          "name": "stdout",
          "text": [
            "{'type': 'sedan', 'color': 'blue', 'mileage': 80000}\n",
            "<class 'dict'>\n"
          ]
        }
      ]
    },
    {
      "cell_type": "markdown",
      "source": [
        "### 2. Adding the Year\n",
        "Add some code below the following code to define a year key with a value of 2003. Don't update the dictionary literal; instead, add some code after lines 1-5:\n",
        "\n",
        "```python\n",
        "car = {\n",
        "    'type':    'sedan',\n",
        "    'color':   'blue',\n",
        "    'mileage': 80_000,\n",
        "}\n",
        "```"
      ],
      "metadata": {
        "id": "LddwYLSf6iTB"
      }
    },
    {
      "cell_type": "code",
      "source": [
        "car = {\n",
        "    'type':    'sedan',\n",
        "    'color':   'blue',\n",
        "    'mileage': 80_000,\n",
        "}\n",
        "\n",
        "car['year'] = 2003\n",
        "print(car)"
      ],
      "metadata": {
        "colab": {
          "base_uri": "https://localhost:8080/"
        },
        "id": "Ab3vgVE06M_A",
        "outputId": "0b54a83e-76d7-421c-c0ba-7e9ca80e557a"
      },
      "execution_count": null,
      "outputs": [
        {
          "output_type": "stream",
          "name": "stdout",
          "text": [
            "{'type': 'sedan', 'color': 'blue', 'mileage': 80000, 'year': 2003}\n"
          ]
        }
      ]
    },
    {
      "cell_type": "markdown",
      "source": [
        "### 3. Broken Odomoeter\n",
        "Using the following code, delete the 'mileage' key and its associated value from car.\n",
        "```\n",
        "car = {\n",
        "    'type':    'sedan',\n",
        "    'color':   'blue',\n",
        "    'mileage': 80_000,\n",
        "    'year':    2003,\n",
        "}\n",
        "```"
      ],
      "metadata": {
        "id": "mCJWq7eh61Tu"
      }
    },
    {
      "cell_type": "code",
      "source": [
        "car = {\n",
        "    'type':    'sedan',\n",
        "    'color':   'blue',\n",
        "    'mileage': 80_000,\n",
        "    'year':    2003,\n",
        "}\n",
        "\n",
        "print(car.pop('mileage'))\n",
        "#Launch School solution: del car['mileage']\n",
        "print(car)"
      ],
      "metadata": {
        "colab": {
          "base_uri": "https://localhost:8080/"
        },
        "id": "ab3eYfpz6vaq",
        "outputId": "172df28f-beea-4cc3-8a7c-2622cd4b8b0a"
      },
      "execution_count": null,
      "outputs": [
        {
          "output_type": "stream",
          "name": "stdout",
          "text": [
            "80000\n",
            "{'type': 'sedan', 'color': 'blue', 'year': 2003}\n"
          ]
        }
      ]
    },
    {
      "cell_type": "markdown",
      "source": [
        "### 4. What Color?\n",
        "Using the following code, select and print the value 'blue' from the car object:\n",
        "```python\n",
        "car = {\n",
        "    'type':  'sedan',\n",
        "    'color': 'blue',\n",
        "    'year':  2003,\n",
        "}\n",
        "```"
      ],
      "metadata": {
        "id": "qYXBUZuj8ceW"
      }
    },
    {
      "cell_type": "code",
      "source": [
        "car = {\n",
        "    'type':  'sedan',\n",
        "    'color': 'blue',\n",
        "    'year':  2003,\n",
        "}\n",
        "\n",
        "print(car['color'])  # blue\n",
        "print()              # empty line\n",
        "print(car['type'])   # sedan\n",
        "print(car['color'])  # blue\n",
        "print(car['year'])   # 2003"
      ],
      "metadata": {
        "colab": {
          "base_uri": "https://localhost:8080/"
        },
        "id": "7ND_87yq7Wrf",
        "outputId": "b0d4f169-0c8e-4f15-c654-d1618b816bd8"
      },
      "execution_count": null,
      "outputs": [
        {
          "output_type": "stream",
          "name": "stdout",
          "text": [
            "blue\n",
            "\n",
            "sedan\n",
            "blue\n",
            "2003\n"
          ]
        }
      ]
    },
    {
      "cell_type": "markdown",
      "source": [
        "### 5. What's my length?\n",
        "Calculate and print the number of key/value pairs in the following dictionary:\n",
        "```python\n",
        "car = {\n",
        "    'type':  'sedan',\n",
        "    'color': 'blue',\n",
        "    'year':  2003,\n",
        "}\n",
        "```"
      ],
      "metadata": {
        "id": "MNuRNBmL89qk"
      }
    },
    {
      "cell_type": "code",
      "source": [
        "car = {\n",
        "    'type':  'sedan',\n",
        "    'color': 'blue',\n",
        "    'year':  2003,\n",
        "}\n",
        "\n",
        "print(len(car))"
      ],
      "metadata": {
        "colab": {
          "base_uri": "https://localhost:8080/"
        },
        "id": "2dlGf_tT8mP_",
        "outputId": "35421f9a-fcd9-4d75-c73e-65aadb418168"
      },
      "execution_count": null,
      "outputs": [
        {
          "output_type": "stream",
          "name": "stdout",
          "text": [
            "3\n"
          ]
        }
      ]
    },
    {
      "cell_type": "markdown",
      "source": [
        "### 6. Checking Key Existence\n",
        "Check whether the keys 'name' and 'grade' exist in the following dictionary:\n",
        "```python\n",
        "student = {\n",
        "    'id': 123,\n",
        "    'grade': 'B',\n",
        "}\n",
        "```"
      ],
      "metadata": {
        "id": "3Q07aFeU9LNG"
      }
    },
    {
      "cell_type": "code",
      "source": [
        "student = {\n",
        "    'id': 123,\n",
        "    'grade': 'B',\n",
        "}\n",
        "\n",
        "print('grade' in student)\n",
        "print('name' in student)"
      ],
      "metadata": {
        "colab": {
          "base_uri": "https://localhost:8080/"
        },
        "id": "4wNACCrZ9Khj",
        "outputId": "ef4db5cb-7f59-4d05-a45f-af49a06ad97f"
      },
      "execution_count": null,
      "outputs": [
        {
          "output_type": "stream",
          "name": "stdout",
          "text": [
            "True\n",
            "False\n"
          ]
        }
      ]
    },
    {
      "cell_type": "code",
      "source": [
        "'car'"
      ],
      "metadata": {
        "id": "-Ii__acF9G0c"
      },
      "execution_count": null,
      "outputs": []
    },
    {
      "cell_type": "markdown",
      "source": [
        "### 7. Multiple Cars\n",
        "Create a nested dictionary that contains the following data.\n",
        "\n",
        "Car\n",
        "\n",
        "| Type  | Color | Year |\n",
        "|-------|-------|------|\n",
        "| Sedan | Blue  | 2003 |\n",
        "\n",
        "Truck\n",
        "\n",
        "| Type   | Color | Year |\n",
        "|--------|-------|------|\n",
        "| Pickup | Red   | 1998 |\n"
      ],
      "metadata": {
        "id": "Gk6fcP9W-Pqd"
      }
    },
    {
      "cell_type": "code",
      "source": [
        "my_cars = {\n",
        "    'car' : {'type' : 'sedan', 'color' : 'blue', 'year' : 2003},\n",
        "    'truck' : {'type' : 'pickup', 'color' : 'red', 'year' : 1998},\n",
        "}\n",
        "\n",
        "#Launch School solution (prettier):\n",
        "ls_cars = {\n",
        "    'car': {\n",
        "        'type': 'sedan',\n",
        "        'color': 'blue',\n",
        "        'year': 2003,\n",
        "    },\n",
        "    'truck': {\n",
        "        'type': 'pickup',\n",
        "        'color': 'red',\n",
        "        'year': 1998,\n",
        "    },\n",
        "}\n",
        "\n",
        "print(my_cars)"
      ],
      "metadata": {
        "colab": {
          "base_uri": "https://localhost:8080/"
        },
        "id": "FQqKhED--pA9",
        "outputId": "78796df9-0d32-4390-cb7e-ba8794d544e1"
      },
      "execution_count": null,
      "outputs": [
        {
          "output_type": "stream",
          "name": "stdout",
          "text": [
            "{'car': {'type': 'sedan', 'color': 'blue', 'year': 2003}, 'truck': {'type': 'pickup', 'color': 'red', 'year': 1998}}\n",
            "True\n"
          ]
        }
      ]
    },
    {
      "cell_type": "markdown",
      "source": [
        "### Which Collection?\n",
        "Rewrite car as a nested list containing the same key/value pairs.\n",
        "\n",
        "```python\n",
        "car = {\n",
        "    'type':  'sedan',\n",
        "    'color': 'blue',\n",
        "    'year':  2003,\n",
        "}\n",
        "```"
      ],
      "metadata": {
        "id": "DRGVlWo8AIm8"
      }
    },
    {
      "cell_type": "code",
      "source": [
        "car = {\n",
        "    'type':  'sedan',\n",
        "    'color': 'blue',\n",
        "    'year':  2003,\n",
        "}\n",
        "\n",
        "car_list = [\n",
        "    ['type', 'sedan'],\n",
        "    ['color', 'blue'],\n",
        "    ['year', 2003]\n",
        "]\n",
        "\n",
        "print(car_list)"
      ],
      "metadata": {
        "colab": {
          "base_uri": "https://localhost:8080/"
        },
        "id": "usgbJ52D_Zk6",
        "outputId": "73e1dbbb-47aa-4c37-8aff-1b2bc7686ea5"
      },
      "execution_count": null,
      "outputs": [
        {
          "output_type": "stream",
          "name": "stdout",
          "text": [
            "[['type', 'sedan'], ['color', 'blue'], ['year', 2003]]\n"
          ]
        }
      ]
    },
    {
      "cell_type": "markdown",
      "source": [
        "### Divided by Two\n",
        "Use a for loop to iterate over the numbers dictionary and return a list containing each number divided by 2 as an integer. The result should be truncated to an integer. Assign the returned list to a variable named half_numbers and print its value using print.\n",
        "```python\n",
        "numbers = {\n",
        "    'high':   100,\n",
        "    'medium': 50,\n",
        "    'low':    25,\n",
        "}\n",
        "```\n",
        "Expected Output\n",
        "```\n",
        "[50, 25, 12]\n",
        "```"
      ],
      "metadata": {
        "id": "zwAdu-YlAx_v"
      }
    },
    {
      "cell_type": "code",
      "source": [
        "numbers = {\n",
        "    'high':   100,\n",
        "    'medium': 50,\n",
        "    'low':    25,\n",
        "}\n",
        "\n",
        "my_list = []\n",
        "\n",
        "for key in numbers:\n",
        "    my_list.append(int(numbers[key] / 2))\n",
        "\n",
        "''' Launch School Solution:\n",
        "half_numbers = []\n",
        "for value in numbers.values():\n",
        "    half_numbers.append(value // 2)   # uses // instead of int(numbers[key] / 2)\n",
        "\n",
        "print(half_numbers)\n",
        "'''\n",
        "\n",
        "print(my_list)"
      ],
      "metadata": {
        "colab": {
          "base_uri": "https://localhost:8080/"
        },
        "id": "4w0WtyfPAnMQ",
        "outputId": "641700b9-6f96-422f-951e-e7d5cf05fe48"
      },
      "execution_count": null,
      "outputs": [
        {
          "output_type": "stream",
          "name": "stdout",
          "text": [
            "[50, 25, 12]\n"
          ]
        }
      ]
    },
    {
      "cell_type": "markdown",
      "source": [
        "### 9. Labeled Numbers\n",
        "Use a for loop to iterate over the numbers dictionary and print each element's key/value pair.\n",
        "\n",
        "```\n",
        "numbers = {\n",
        "    'high':   100,\n",
        "    'medium': 50,\n",
        "    'low':    10,\n",
        "}\n",
        "```\n",
        "Expected Output\n",
        "```\n",
        "A high number is 100.\n",
        "A medium number is 50.\n",
        "A low number is 10.\n"
      ],
      "metadata": {
        "id": "I6ZhBltUDWvl"
      }
    },
    {
      "cell_type": "code",
      "source": [
        "numbers = {\n",
        "    'high':   100,\n",
        "    'medium': 50,\n",
        "    'low':    10,\n",
        "}\n",
        "\n",
        "for number in numbers:\n",
        "    print(f'A {number} number is {numbers[number]}.')\n",
        "\n",
        "print() # print empty line for readability\n",
        "\n",
        "# Launch School Solution\n",
        "for key, value in numbers.items():\n",
        "    print(f\"A {key} number is {value}.\")"
      ],
      "metadata": {
        "colab": {
          "base_uri": "https://localhost:8080/"
        },
        "id": "AkOalxhKBehm",
        "outputId": "705ff204-cbfc-4d8b-8324-0dc37ef72efd"
      },
      "execution_count": null,
      "outputs": [
        {
          "output_type": "stream",
          "name": "stdout",
          "text": [
            "A high number is 100.\n",
            "A medium number is 50.\n",
            "A low number is 10.\n",
            "\n",
            "A high number is 100.\n",
            "A medium number is 50.\n",
            "A low number is 10.\n"
          ]
        }
      ]
    },
    {
      "cell_type": "markdown",
      "source": [
        "## Debugging"
      ],
      "metadata": {
        "id": "XM8CPoYKES2Q"
      }
    },
    {
      "cell_type": "markdown",
      "source": [
        "### 1. Reading Error Messages\n",
        "You come across the following code. What errors does it raise for the given examples and what exactly do the error messages mean?\n",
        "\n",
        "```python\n",
        "def find_first_nonzero_among(numbers):\n",
        "    for n in numbers:\n",
        "        if n != 0:\n",
        "            return n\n",
        "\n",
        "find_first_nonzero_among(0, 0, 1, 0, 2, 0)\n",
        "find_first_nonzero_among(1)\n",
        "```\n"
      ],
      "metadata": {
        "id": "pDzA3IzOCDho"
      }
    },
    {
      "cell_type": "code",
      "source": [
        "def find_first_nonzero_among(numbers):\n",
        "    for n in numbers:\n",
        "        if n != 0:\n",
        "            return n\n",
        "\n",
        "find_first_nonzero_among(0, 0, 1, 0, 2, 0)\n",
        "find_first_nonzero_among(1)"
      ],
      "metadata": {
        "colab": {
          "base_uri": "https://localhost:8080/",
          "height": 193
        },
        "id": "Ob5c9i9LCoGz",
        "outputId": "d442b141-ee2b-4254-e18b-3500365751ca"
      },
      "execution_count": null,
      "outputs": [
        {
          "output_type": "error",
          "ename": "TypeError",
          "evalue": "find_first_nonzero_among() takes 1 positional argument but 6 were given",
          "traceback": [
            "\u001b[0;31m---------------------------------------------------------------------------\u001b[0m",
            "\u001b[0;31mTypeError\u001b[0m                                 Traceback (most recent call last)",
            "\u001b[0;32m<ipython-input-1-8cdf4d03e975>\u001b[0m in \u001b[0;36m<cell line: 6>\u001b[0;34m()\u001b[0m\n\u001b[1;32m      4\u001b[0m             \u001b[0;32mreturn\u001b[0m \u001b[0mn\u001b[0m\u001b[0;34m\u001b[0m\u001b[0;34m\u001b[0m\u001b[0m\n\u001b[1;32m      5\u001b[0m \u001b[0;34m\u001b[0m\u001b[0m\n\u001b[0;32m----> 6\u001b[0;31m \u001b[0mfind_first_nonzero_among\u001b[0m\u001b[0;34m(\u001b[0m\u001b[0;36m0\u001b[0m\u001b[0;34m,\u001b[0m \u001b[0;36m0\u001b[0m\u001b[0;34m,\u001b[0m \u001b[0;36m1\u001b[0m\u001b[0;34m,\u001b[0m \u001b[0;36m0\u001b[0m\u001b[0;34m,\u001b[0m \u001b[0;36m2\u001b[0m\u001b[0;34m,\u001b[0m \u001b[0;36m0\u001b[0m\u001b[0;34m)\u001b[0m\u001b[0;34m\u001b[0m\u001b[0;34m\u001b[0m\u001b[0m\n\u001b[0m\u001b[1;32m      7\u001b[0m \u001b[0mfind_first_nonzero_among\u001b[0m\u001b[0;34m(\u001b[0m\u001b[0;36m1\u001b[0m\u001b[0;34m)\u001b[0m\u001b[0;34m\u001b[0m\u001b[0;34m\u001b[0m\u001b[0m\n",
            "\u001b[0;31mTypeError\u001b[0m: find_first_nonzero_among() takes 1 positional argument but 6 were given"
          ]
        }
      ]
    },
    {
      "cell_type": "markdown",
      "source": [
        "This function expects a list of integers to be passed in as the argument. The example function invocations should look like this:\n",
        "\n",
        "```python\n",
        "find_first_nonzero_among([0, 0, 1, 0, 2, 0])\n",
        "find_first_nonzero_among([1])\n",
        "```\n",
        "Discussion\n",
        "The first function invocation (line 6) raises an TypeError on line 1:\n",
        "\n",
        "```python\n",
        "TypeError: find_first_nonzero_among() takes 1 positional argument but 6 were given\n",
        "```\n",
        "The error message tells you that the function find_first_nonzero_among was given 6 arguments but expects only 1\n",
        "\n",
        "The second function invocation (line 7) receives the correct number of arguments, so no error is raised on line 1. However, as soon as the program tries to evaluate line 2 with the given argument, it raises another TypeError:\n",
        "\n",
        "```python\n",
        "TypeError: 'int' object is not iterable\n",
        "```\n",
        "This is because the function parameter numbers is now bound to the provided argument 1, so it tries to evaluate for n in numbers:. Since integers are not iterables, this raises a TypeError.\n",
        "\n"
      ],
      "metadata": {
        "id": "ZGXaIHyFDCOm"
      }
    },
    {
      "cell_type": "code",
      "source": [
        "#Corrected Code\n",
        "def find_first_nonzero_among(numbers):\n",
        "    for n in numbers:\n",
        "        if n != 0:\n",
        "            return n\n",
        "\n",
        "print(find_first_nonzero_among([0, 0, 1, 0, 2, 0])) # 1 list input, not 6 ints\n",
        "print(find_first_nonzero_among([1]))                # input is now an iterable"
      ],
      "metadata": {
        "id": "uMoK_gEDDsKx",
        "colab": {
          "base_uri": "https://localhost:8080/"
        },
        "outputId": "d67d96ba-ae40-4069-df64-1d081ff74844"
      },
      "execution_count": null,
      "outputs": [
        {
          "output_type": "stream",
          "name": "stdout",
          "text": [
            "1\n",
            "1\n"
          ]
        }
      ]
    },
    {
      "cell_type": "markdown",
      "source": [
        "### Weather Forecast\n",
        "Our predict_weather function should output a message indicating whether a sunny or cloudy day lies ahead. However, the output is the same every time the function is invoked. Why? Fix the code so that it behaves as expected.\n",
        "```python\n",
        "import random\n",
        "\n",
        "def predict_weather():\n",
        "    sunshine = random.choice(['True', 'False'])\n",
        "\n",
        "    if sunshine:\n",
        "        print(\"Today's weather will be sunny!\")\n",
        "    else:\n",
        "        print(\"Today's weather will be cloudy!\")\n",
        "```\n",
        "\n"
      ],
      "metadata": {
        "id": "79_gGFfsFo9h"
      }
    },
    {
      "cell_type": "code",
      "source": [
        "import random\n",
        "\n",
        "def predict_weather():\n",
        "    sunshine = random.choice([True, False])\n",
        "    # True and False were listed as strings, not as boolean objects\n",
        "    # Just had to get rid of the quotation marks\n",
        "\n",
        "    if sunshine:\n",
        "        print(\"Today's weather will be sunny!\")\n",
        "    else:\n",
        "        print(\"Today's weather will be cloudy!\")\n",
        "\n",
        "predict_weather()"
      ],
      "metadata": {
        "colab": {
          "base_uri": "https://localhost:8080/"
        },
        "id": "Eja4IYUME4o0",
        "outputId": "68db5cf0-655d-4b8a-e732-fe042a138e24"
      },
      "execution_count": null,
      "outputs": [
        {
          "output_type": "stream",
          "name": "stdout",
          "text": [
            "Today's weather will be sunny!\n"
          ]
        }
      ]
    },
    {
      "cell_type": "markdown",
      "source": [
        "### Multiply by Five\n",
        "When the user inputs `10`, we expect the program to print `The result is 50!`, but that's not the output we see. Why not?\n",
        "\n",
        "```python\n",
        "def multiply_by_five(n):\n",
        "    return n * 5\n",
        "\n",
        "print(\"Hello! Which number would you like to multiply by 5?\")\n",
        "number = input()\n",
        "\n",
        "print(f\"The result is {multiply_by_five(number)}!\")\n",
        "```"
      ],
      "metadata": {
        "id": "euvtxI3SIUhY"
      }
    },
    {
      "cell_type": "code",
      "source": [
        "def multiply_by_five(n):\n",
        "    return n * 5\n",
        "\n",
        "print(\"Hello! Which number would you like to multiply by 5?\")\n",
        "number = int(input())   # input defaults to string, force it into an int\n",
        "\n",
        "print(f\"The result is {multiply_by_five(number)}!\")"
      ],
      "metadata": {
        "colab": {
          "base_uri": "https://localhost:8080/"
        },
        "id": "pqYM4fMFGNzX",
        "outputId": "d2fa37e7-b14e-42bc-de21-9238089c8776"
      },
      "execution_count": null,
      "outputs": [
        {
          "output_type": "stream",
          "name": "stdout",
          "text": [
            "Hello! Which number would you like to multiply by 5?\n",
            "5\n",
            "The result is 25!\n"
          ]
        }
      ]
    },
    {
      "cell_type": "markdown",
      "source": [
        "### Pets\n",
        "Magdalena has just adopted a new pet! She wants to add her new dog, Bowser, to the pets dictionary. After doing so, she realizes that her dogs Sparky and Fido have been mistakenly removed. Help Magdalena fix her code so that all three of her dogs' names will be associated with the key 'dog' in the pets dictionary.\n",
        "```python\n",
        "pets = { 'cat': 'pepe', 'dog': ['sparky', 'fido'], 'fish': 'oscar' }\n",
        "\n",
        "pets['dog'] = 'bowser'\n",
        "\n",
        "print(pets)  # Output: {'cat': 'pepe', 'dog': 'bowser', 'fish': 'oscar'}\n",
        "```\n",
        "\n"
      ],
      "metadata": {
        "id": "MdZZdnBPJUr0"
      }
    },
    {
      "cell_type": "code",
      "source": [
        "pets = { 'cat': 'pepe', 'dog': ['sparky', 'fido'], 'fish': 'oscar' }\n",
        "\n",
        "# Solution 1: pets['dog'] = ['sparky', 'fido', 'bowser']\n",
        "pets['dog'].append('bowser')    # This solution is more elegant\n",
        "\n",
        "print(pets)  # Output: {'cat': 'pepe', 'dog': 'bowser', 'fish': 'oscar'}"
      ],
      "metadata": {
        "colab": {
          "base_uri": "https://localhost:8080/"
        },
        "id": "xmfE8AgIJCYn",
        "outputId": "6d31ee21-9417-44a5-88be-12e0c69df390"
      },
      "execution_count": null,
      "outputs": [
        {
          "output_type": "stream",
          "name": "stdout",
          "text": [
            "{'cat': 'pepe', 'dog': ['sparky', 'fido', 'bowser'], 'fish': 'oscar'}\n"
          ]
        }
      ]
    },
    {
      "cell_type": "markdown",
      "source": [
        "### Confucius Says\n",
        "You want to have a small script delivering motivational quotes, but with the following code you run into a very common error message: TypeError: can only concatenate str (not \"NoneType\") to str. What is the problem and how can you fix it?\n",
        "```python\n",
        "def get_quote(person):\n",
        "    if person == 'Yoda':\n",
        "        'Do. Or do not. There is no try.'\n",
        "    if person == 'Confucius':\n",
        "        'I hear and I forget. I see and I remember. I do and I understand.'\n",
        "    if person == 'Einstein':\n",
        "        'Do not worry about your difficulties in Mathematics. I can assure you mine are still greater.'\n",
        "\n",
        "print('Confucius says:')\n",
        "print('\"' + get_quote('Confucius') + '\"')\n",
        "```\n"
      ],
      "metadata": {
        "id": "3n_rjkXeLIac"
      }
    },
    {
      "cell_type": "code",
      "source": [
        "# Magdalena forgot to add return statements to her function\n",
        "def get_quote(person):\n",
        "    if person == 'Yoda':\n",
        "        return 'Do. Or do not. There is no try.'\n",
        "    if person == 'Confucius':\n",
        "        return 'I hear and I forget. I see and I remember. I do and I understand.'\n",
        "    if person == 'Einstein':\n",
        "        return 'Do not worry about your difficulties in Mathematics. I can assure you mine are still greater.'\n",
        "\n",
        "print(f'Confucius says:\\n{get_quote(\"Confucius\")}\\n')\n",
        "print(f'Yoda says:\\n{get_quote(\"Yoda\")}\\n')\n",
        "print(f'Einstein says:\\n{get_quote(\"Einstein\")}\\n')"
      ],
      "metadata": {
        "colab": {
          "base_uri": "https://localhost:8080/"
        },
        "id": "ywZV4HAhJlu5",
        "outputId": "e697bdb1-233b-45ff-e0a0-6285b7f91f30"
      },
      "execution_count": null,
      "outputs": [
        {
          "output_type": "stream",
          "name": "stdout",
          "text": [
            "Confucius says:\n",
            "I hear and I forget. I see and I remember. I do and I understand.\n",
            "\n",
            "Yoda says:\n",
            "Do. Or do not. There is no try.\n",
            "\n",
            "Einstein says:\n",
            "Do not worry about your difficulties in Mathematics. I can assure you mine are still greater.\n",
            "\n"
          ]
        }
      ]
    },
    {
      "cell_type": "markdown",
      "source": [
        "### Populate List\n",
        "You want to add the numbers from 1 to 5 to a list, but the code below is not producing the expected result. How can you fix it?\n",
        "```python\n",
        "numbers = []\n",
        "\n",
        "for i in range(5):\n",
        "    numbers.append(i)\n",
        "\n",
        "print(numbers)\n",
        "```"
      ],
      "metadata": {
        "id": "Zxcir9J-M_Hc"
      }
    },
    {
      "cell_type": "code",
      "source": [
        "numbers = []\n",
        "\n",
        "for i in range(1, 6):\n",
        "    numbers.append(i)\n",
        "\n",
        "print(numbers)"
      ],
      "metadata": {
        "colab": {
          "base_uri": "https://localhost:8080/"
        },
        "id": "weKBpFBmLrXZ",
        "outputId": "040be8d5-f07a-4558-d6da-6a21fa0db1ba"
      },
      "execution_count": null,
      "outputs": [
        {
          "output_type": "stream",
          "name": "stdout",
          "text": [
            "[1, 2, 3, 4, 5]\n"
          ]
        }
      ]
    },
    {
      "cell_type": "markdown",
      "source": [
        "### Dictionary Access\n",
        "You are trying to access a value in a dictionary, but the code is giving you an error. Can you change line 3 so that it prints \"Unknown\" instead of raising an error?\n",
        "```python\n",
        "info = {'name': 'Srdjan', 'age': 38}\n",
        "\n",
        "print(info['city'])\n",
        "```"
      ],
      "metadata": {
        "id": "j_VD1V33NQHg"
      }
    },
    {
      "cell_type": "code",
      "source": [
        "info = {'name': 'Srdjan', 'age': 38}\n",
        "\n",
        "print(info.get('city', \"Unknown\"))"
      ],
      "metadata": {
        "colab": {
          "base_uri": "https://localhost:8080/"
        },
        "id": "GbiW2B8sNHZq",
        "outputId": "d2d44606-0ae3-4860-848c-c832afa81990"
      },
      "execution_count": null,
      "outputs": [
        {
          "output_type": "stream",
          "name": "stdout",
          "text": [
            "Unknown\n"
          ]
        }
      ]
    },
    {
      "cell_type": "markdown",
      "source": [
        "### Matrix\n",
        "We wanted to create a matrix 3x3 so we could use it to build a Tic-Tac-Toe game. However, we encountered an issue, as whenever we change a value in one nested list, all nested lists are affected. Can you fix the code?\n",
        "```python\n",
        "sub_list = [\"-\", \"-\", \"-\"]\n",
        "matrix = []\n",
        "\n",
        "for _ in range(3):\n",
        "    matrix.append(sub_list)\n",
        "\n",
        "matrix[0][0] = \"X\"\n",
        "print(matrix) # [['X', '-', '-'], ['X', '-', '-'], ['X', '-', '-']]\n",
        "```"
      ],
      "metadata": {
        "id": "Ymer6yzrPmOf"
      }
    },
    {
      "cell_type": "code",
      "source": [
        "sub_list = [\"-\", \"-\", \"-\"]\n",
        "matrix = []\n",
        "\n",
        "for _ in range(3):\n",
        "    matrix.append(sub_list.copy())\n",
        "\n",
        "matrix[0][0] = \"X\"\n",
        "print(matrix) # [['X', '-', '-'], ['X', '-', '-'], ['X', '-', '-']]"
      ],
      "metadata": {
        "colab": {
          "base_uri": "https://localhost:8080/"
        },
        "id": "QUIK64VBPNPW",
        "outputId": "eb3785c0-d72f-43a3-f654-b69ba0624095"
      },
      "execution_count": null,
      "outputs": [
        {
          "output_type": "stream",
          "name": "stdout",
          "text": [
            "[['X', '-', '-'], ['-', '-', '-'], ['-', '-', '-']]\n"
          ]
        }
      ]
    },
    {
      "cell_type": "markdown",
      "source": [
        "### Find Maximum\n",
        "Your colleague has implemented a custom function to find the maximum value in a list. However, the function sometimes works correctly, but other times it produces incorrect results. Can you help your colleague fix the bug?\n",
        "```python\n",
        "def find_maximum(numbers):\n",
        "    if not numbers:\n",
        "        return None\n",
        "    max_number = 0\n",
        "    for number in numbers:\n",
        "        if number > max_number:\n",
        "            max_number = number\n",
        "    return max_number\n",
        "\n",
        "print(find_maximum([45, 3, 10, 98, 22]))  # Expected 98\n",
        "print(find_maximum([-1, 0, 5, 3]))         # Expected 5\n",
        "print(find_maximum([-10, -3, -20, -2]))   # Expected -2\n",
        "```"
      ],
      "metadata": {
        "id": "Loqa9umxSWB6"
      }
    },
    {
      "cell_type": "code",
      "source": [
        "def find_maximum(numbers):\n",
        "    if not numbers:\n",
        "        return None\n",
        "\n",
        "    max_number = numbers[0]\n",
        "    # max_number = float('-inf')    # You can also initialize to -infinity\n",
        "\n",
        "    for number in numbers:\n",
        "        if number > max_number:\n",
        "            max_number = number\n",
        "    return max_number\n",
        "\n",
        "print(find_maximum([45, 3, 10, 98, 22]))  # Expected 98\n",
        "print(find_maximum([-1, 0, 5, 3]))        # Expected 5\n",
        "print(find_maximum([-10, -3, -20, -2]))   # Expected -2"
      ],
      "metadata": {
        "colab": {
          "base_uri": "https://localhost:8080/"
        },
        "id": "qv2Pcf-UPtWV",
        "outputId": "5bb6a6af-9dc7-44f8-cd03-6645841b105b"
      },
      "execution_count": null,
      "outputs": [
        {
          "output_type": "stream",
          "name": "stdout",
          "text": [
            "98\n",
            "5\n",
            "-2\n"
          ]
        }
      ]
    },
    {
      "cell_type": "markdown",
      "source": [
        "### Digit Product\n",
        "You've been asked to implement a function called digit_product that takes a string of digits as an argument and returns the product of all the digits in the string.\n",
        "\n",
        "When testing the function, you find that it returns 0, which is not what you expect. Can you identify the issue and correct the code?\n",
        "```python\n",
        "def digit_product(str_num):\n",
        "    digits = [int(n) for n in str_num]\n",
        "    product = 0\n",
        "\n",
        "    for digit in digits:\n",
        "        product *= digit\n",
        "\n",
        "    return product\n",
        "\n",
        "result = digit_product('12345')\n",
        "print(result)  # expected: 120, actual: 0\n",
        "```"
      ],
      "metadata": {
        "id": "UqQFMW7NVPQb"
      }
    },
    {
      "cell_type": "code",
      "source": [
        "def digit_product(str_num):\n",
        "    digits = [int(n) for n in str_num]\n",
        "    product = 1    # Initialize to 1 b/c anython times 0 is 0\n",
        "\n",
        "    for digit in digits:\n",
        "        product *= digit\n",
        "\n",
        "    return product"
      ],
      "metadata": {
        "id": "n-sG5TnIXPzr"
      },
      "execution_count": null,
      "outputs": []
    },
    {
      "cell_type": "code",
      "source": [
        "def digit_product(str_num):\n",
        "    # First check for possible errors so empty inputs don't return `1`\n",
        "    if not str_num:\n",
        "        raise ValueError('Empty String Input')\n",
        "\n",
        "    if type(str_num) != str:\n",
        "        raise TypeError('Input is not a string.')\n",
        "\n",
        "    digits = [int(n) for n in str_num]\n",
        "    product = 1\n",
        "\n",
        "    for digit in digits:\n",
        "        product *= digit\n",
        "\n",
        "    return product\n",
        "\n",
        "result = digit_product('12345')\n",
        "print(result)  # expected: 120, actual: 0"
      ],
      "metadata": {
        "colab": {
          "base_uri": "https://localhost:8080/"
        },
        "id": "epiCCVptTQii",
        "outputId": "11a0c381-33a0-4865-d425-974612880ecd"
      },
      "execution_count": null,
      "outputs": [
        {
          "output_type": "stream",
          "name": "stdout",
          "text": [
            "120\n"
          ]
        }
      ]
    },
    {
      "cell_type": "code",
      "source": [],
      "metadata": {
        "id": "oIFh3bKaWAyA"
      },
      "execution_count": null,
      "outputs": []
    }
  ],
  "metadata": {
    "colab": {
      "provenance": [],
      "collapsed_sections": [
        "ZprojrAj5HcS"
      ],
      "include_colab_link": true
    },
    "kernelspec": {
      "display_name": "Python 3",
      "name": "python3"
    },
    "language_info": {
      "name": "python"
    }
  },
  "nbformat": 4,
  "nbformat_minor": 0
}